{
  "nbformat": 4,
  "nbformat_minor": 0,
  "metadata": {
    "colab": {
      "name": "yolov5(e20)_with_pretained_model.ipynb",
      "provenance": [],
      "mount_file_id": "1QFKlLhi6VyE8QYCHZ3dISy8BTQxcc2cX",
      "authorship_tag": "ABX9TyOO9+GNXUSbKjPGzP/+Wlzf",
      "include_colab_link": true
    },
    "kernelspec": {
      "name": "python3",
      "display_name": "Python 3"
    },
    "language_info": {
      "name": "python"
    },
    "gpuClass": "standard",
    "accelerator": "GPU"
  },
  "cells": [
    {
      "cell_type": "markdown",
      "metadata": {
        "id": "view-in-github",
        "colab_type": "text"
      },
      "source": [
        "<a href=\"https://colab.research.google.com/github/Ng-Cho-Yin/YOLO_v5-wheat_data/blob/main/yolov5(e20)_with_pretained_model.ipynb\" target=\"_parent\"><img src=\"https://colab.research.google.com/assets/colab-badge.svg\" alt=\"Open In Colab\"/></a>"
      ]
    },
    {
      "cell_type": "code",
      "execution_count": 1,
      "metadata": {
        "id": "UOzVqPFAIByN"
      },
      "outputs": [],
      "source": [
        "from zipfile import ZipFile"
      ]
    },
    {
      "cell_type": "code",
      "source": [
        "!nvidia-smi"
      ],
      "metadata": {
        "colab": {
          "base_uri": "https://localhost:8080/"
        },
        "id": "s8iGsSt65nxu",
        "outputId": "e73e9048-3e53-4641-f7e5-4027cbc10522"
      },
      "execution_count": 2,
      "outputs": [
        {
          "output_type": "stream",
          "name": "stdout",
          "text": [
            "Mon Jul  4 07:13:09 2022       \n",
            "+-----------------------------------------------------------------------------+\n",
            "| NVIDIA-SMI 460.32.03    Driver Version: 460.32.03    CUDA Version: 11.2     |\n",
            "|-------------------------------+----------------------+----------------------+\n",
            "| GPU  Name        Persistence-M| Bus-Id        Disp.A | Volatile Uncorr. ECC |\n",
            "| Fan  Temp  Perf  Pwr:Usage/Cap|         Memory-Usage | GPU-Util  Compute M. |\n",
            "|                               |                      |               MIG M. |\n",
            "|===============================+======================+======================|\n",
            "|   0  Tesla T4            Off  | 00000000:00:04.0 Off |                    0 |\n",
            "| N/A   47C    P8    10W /  70W |      0MiB / 15109MiB |      0%      Default |\n",
            "|                               |                      |                  N/A |\n",
            "+-------------------------------+----------------------+----------------------+\n",
            "                                                                               \n",
            "+-----------------------------------------------------------------------------+\n",
            "| Processes:                                                                  |\n",
            "|  GPU   GI   CI        PID   Type   Process name                  GPU Memory |\n",
            "|        ID   ID                                                   Usage      |\n",
            "|=============================================================================|\n",
            "|  No running processes found                                                 |\n",
            "+-----------------------------------------------------------------------------+\n"
          ]
        }
      ]
    },
    {
      "cell_type": "code",
      "source": [
        "with ZipFile('/content/drive/MyDrive/global-wheat-detection.zip','r') as zipObj:\n",
        "  zipObj.extractall('wheat_data/input')"
      ],
      "metadata": {
        "id": "Vvu0aLzrJzJk"
      },
      "execution_count": 3,
      "outputs": []
    },
    {
      "cell_type": "code",
      "source": [
        "with ZipFile('/content/drive/MyDrive/yolov5-master.zip','r') as zipObj:\n",
        "  zipObj.extractall('yolo')"
      ],
      "metadata": {
        "id": "OgIi_yNlclqV"
      },
      "execution_count": 4,
      "outputs": []
    },
    {
      "cell_type": "code",
      "source": [
        "import ast\n",
        "import numpy as np\n",
        "import os\n",
        "import pandas as pd\n",
        "from PIL import Image\n",
        "from sklearn import model_selection\n",
        "import shutil\n",
        "from tqdm import tqdm\n",
        "\n",
        "\n"
      ],
      "metadata": {
        "id": "3t0FdvMuKhjt"
      },
      "execution_count": 5,
      "outputs": []
    },
    {
      "cell_type": "code",
      "source": [
        "#shutil.rmtree('/content/wheat_data/input', ignore_errors=True)"
      ],
      "metadata": {
        "id": "hDQMF48IV4EO"
      },
      "execution_count": null,
      "outputs": []
    },
    {
      "cell_type": "code",
      "source": [
        "DATA_PATH='/content/wheat_data/input'\n",
        "OUTPUT_PATH='/content/yolo/yolov5-master/wheat_data'"
      ],
      "metadata": {
        "id": "Enq3zdCmODWF"
      },
      "execution_count": 6,
      "outputs": []
    },
    {
      "cell_type": "code",
      "source": [
        "df = pd.read_csv(os.path.join(DATA_PATH,'train.csv'))\n",
        "df.bbox = df.bbox.apply(ast.literal_eval)\n",
        "df = df.groupby(\"image_id\")['bbox'].apply(list).reset_index(name='bboxes')"
      ],
      "metadata": {
        "id": "Df0fPFBdKhxA"
      },
      "execution_count": 7,
      "outputs": []
    },
    {
      "cell_type": "code",
      "source": [
        "df"
      ],
      "metadata": {
        "colab": {
          "base_uri": "https://localhost:8080/",
          "height": 424
        },
        "id": "aej_QddBKh6b",
        "outputId": "04a2962a-6fe4-4704-e3e1-8ade864de783"
      },
      "execution_count": null,
      "outputs": [
        {
          "output_type": "execute_result",
          "data": {
            "text/plain": [
              "       image_id                                             bboxes\n",
              "0     00333207f  [[0, 654, 37, 111], [0, 817, 135, 98], [0, 192...\n",
              "1     005b0d8bb  [[765.0, 879.0, 116.0, 79.0], [84.0, 539.0, 15...\n",
              "2     006a994f7  [[437.0, 988.0, 98.0, 36.0], [309.0, 527.0, 11...\n",
              "3     00764ad5d  [[89.0, 256.0, 113.0, 107.0], [216.0, 282.0, 1...\n",
              "4     00b5fefed  [[709.0, 97.0, 204.0, 105.0], [775.0, 250.0, 1...\n",
              "...         ...                                                ...\n",
              "3368  ffb445410  [[0.0, 534.0, 54.0, 118.0], [0.0, 480.0, 38.0,...\n",
              "3369  ffbf75e5b  [[0, 697, 21, 58], [104, 750, 77, 75], [65, 84...\n",
              "3370  ffbfe7cc0  [[256.0, 0.0, 64.0, 99.0], [390.0, 0.0, 48.0, ...\n",
              "3371  ffc870198  [[447.0, 976.0, 78.0, 48.0], [18.0, 141.0, 218...\n",
              "3372  ffdf83e42  [[306.0, 178.0, 67.0, 88.0], [367.0, 167.0, 63...\n",
              "\n",
              "[3373 rows x 2 columns]"
            ],
            "text/html": [
              "\n",
              "  <div id=\"df-d5b1a6f8-1201-4e96-87a9-730e9eed6827\">\n",
              "    <div class=\"colab-df-container\">\n",
              "      <div>\n",
              "<style scoped>\n",
              "    .dataframe tbody tr th:only-of-type {\n",
              "        vertical-align: middle;\n",
              "    }\n",
              "\n",
              "    .dataframe tbody tr th {\n",
              "        vertical-align: top;\n",
              "    }\n",
              "\n",
              "    .dataframe thead th {\n",
              "        text-align: right;\n",
              "    }\n",
              "</style>\n",
              "<table border=\"1\" class=\"dataframe\">\n",
              "  <thead>\n",
              "    <tr style=\"text-align: right;\">\n",
              "      <th></th>\n",
              "      <th>image_id</th>\n",
              "      <th>bboxes</th>\n",
              "    </tr>\n",
              "  </thead>\n",
              "  <tbody>\n",
              "    <tr>\n",
              "      <th>0</th>\n",
              "      <td>00333207f</td>\n",
              "      <td>[[0, 654, 37, 111], [0, 817, 135, 98], [0, 192...</td>\n",
              "    </tr>\n",
              "    <tr>\n",
              "      <th>1</th>\n",
              "      <td>005b0d8bb</td>\n",
              "      <td>[[765.0, 879.0, 116.0, 79.0], [84.0, 539.0, 15...</td>\n",
              "    </tr>\n",
              "    <tr>\n",
              "      <th>2</th>\n",
              "      <td>006a994f7</td>\n",
              "      <td>[[437.0, 988.0, 98.0, 36.0], [309.0, 527.0, 11...</td>\n",
              "    </tr>\n",
              "    <tr>\n",
              "      <th>3</th>\n",
              "      <td>00764ad5d</td>\n",
              "      <td>[[89.0, 256.0, 113.0, 107.0], [216.0, 282.0, 1...</td>\n",
              "    </tr>\n",
              "    <tr>\n",
              "      <th>4</th>\n",
              "      <td>00b5fefed</td>\n",
              "      <td>[[709.0, 97.0, 204.0, 105.0], [775.0, 250.0, 1...</td>\n",
              "    </tr>\n",
              "    <tr>\n",
              "      <th>...</th>\n",
              "      <td>...</td>\n",
              "      <td>...</td>\n",
              "    </tr>\n",
              "    <tr>\n",
              "      <th>3368</th>\n",
              "      <td>ffb445410</td>\n",
              "      <td>[[0.0, 534.0, 54.0, 118.0], [0.0, 480.0, 38.0,...</td>\n",
              "    </tr>\n",
              "    <tr>\n",
              "      <th>3369</th>\n",
              "      <td>ffbf75e5b</td>\n",
              "      <td>[[0, 697, 21, 58], [104, 750, 77, 75], [65, 84...</td>\n",
              "    </tr>\n",
              "    <tr>\n",
              "      <th>3370</th>\n",
              "      <td>ffbfe7cc0</td>\n",
              "      <td>[[256.0, 0.0, 64.0, 99.0], [390.0, 0.0, 48.0, ...</td>\n",
              "    </tr>\n",
              "    <tr>\n",
              "      <th>3371</th>\n",
              "      <td>ffc870198</td>\n",
              "      <td>[[447.0, 976.0, 78.0, 48.0], [18.0, 141.0, 218...</td>\n",
              "    </tr>\n",
              "    <tr>\n",
              "      <th>3372</th>\n",
              "      <td>ffdf83e42</td>\n",
              "      <td>[[306.0, 178.0, 67.0, 88.0], [367.0, 167.0, 63...</td>\n",
              "    </tr>\n",
              "  </tbody>\n",
              "</table>\n",
              "<p>3373 rows × 2 columns</p>\n",
              "</div>\n",
              "      <button class=\"colab-df-convert\" onclick=\"convertToInteractive('df-d5b1a6f8-1201-4e96-87a9-730e9eed6827')\"\n",
              "              title=\"Convert this dataframe to an interactive table.\"\n",
              "              style=\"display:none;\">\n",
              "        \n",
              "  <svg xmlns=\"http://www.w3.org/2000/svg\" height=\"24px\"viewBox=\"0 0 24 24\"\n",
              "       width=\"24px\">\n",
              "    <path d=\"M0 0h24v24H0V0z\" fill=\"none\"/>\n",
              "    <path d=\"M18.56 5.44l.94 2.06.94-2.06 2.06-.94-2.06-.94-.94-2.06-.94 2.06-2.06.94zm-11 1L8.5 8.5l.94-2.06 2.06-.94-2.06-.94L8.5 2.5l-.94 2.06-2.06.94zm10 10l.94 2.06.94-2.06 2.06-.94-2.06-.94-.94-2.06-.94 2.06-2.06.94z\"/><path d=\"M17.41 7.96l-1.37-1.37c-.4-.4-.92-.59-1.43-.59-.52 0-1.04.2-1.43.59L10.3 9.45l-7.72 7.72c-.78.78-.78 2.05 0 2.83L4 21.41c.39.39.9.59 1.41.59.51 0 1.02-.2 1.41-.59l7.78-7.78 2.81-2.81c.8-.78.8-2.07 0-2.86zM5.41 20L4 18.59l7.72-7.72 1.47 1.35L5.41 20z\"/>\n",
              "  </svg>\n",
              "      </button>\n",
              "      \n",
              "  <style>\n",
              "    .colab-df-container {\n",
              "      display:flex;\n",
              "      flex-wrap:wrap;\n",
              "      gap: 12px;\n",
              "    }\n",
              "\n",
              "    .colab-df-convert {\n",
              "      background-color: #E8F0FE;\n",
              "      border: none;\n",
              "      border-radius: 50%;\n",
              "      cursor: pointer;\n",
              "      display: none;\n",
              "      fill: #1967D2;\n",
              "      height: 32px;\n",
              "      padding: 0 0 0 0;\n",
              "      width: 32px;\n",
              "    }\n",
              "\n",
              "    .colab-df-convert:hover {\n",
              "      background-color: #E2EBFA;\n",
              "      box-shadow: 0px 1px 2px rgba(60, 64, 67, 0.3), 0px 1px 3px 1px rgba(60, 64, 67, 0.15);\n",
              "      fill: #174EA6;\n",
              "    }\n",
              "\n",
              "    [theme=dark] .colab-df-convert {\n",
              "      background-color: #3B4455;\n",
              "      fill: #D2E3FC;\n",
              "    }\n",
              "\n",
              "    [theme=dark] .colab-df-convert:hover {\n",
              "      background-color: #434B5C;\n",
              "      box-shadow: 0px 1px 3px 1px rgba(0, 0, 0, 0.15);\n",
              "      filter: drop-shadow(0px 1px 2px rgba(0, 0, 0, 0.3));\n",
              "      fill: #FFFFFF;\n",
              "    }\n",
              "  </style>\n",
              "\n",
              "      <script>\n",
              "        const buttonEl =\n",
              "          document.querySelector('#df-d5b1a6f8-1201-4e96-87a9-730e9eed6827 button.colab-df-convert');\n",
              "        buttonEl.style.display =\n",
              "          google.colab.kernel.accessAllowed ? 'block' : 'none';\n",
              "\n",
              "        async function convertToInteractive(key) {\n",
              "          const element = document.querySelector('#df-d5b1a6f8-1201-4e96-87a9-730e9eed6827');\n",
              "          const dataTable =\n",
              "            await google.colab.kernel.invokeFunction('convertToInteractive',\n",
              "                                                     [key], {});\n",
              "          if (!dataTable) return;\n",
              "\n",
              "          const docLinkHtml = 'Like what you see? Visit the ' +\n",
              "            '<a target=\"_blank\" href=https://colab.research.google.com/notebooks/data_table.ipynb>data table notebook</a>'\n",
              "            + ' to learn more about interactive tables.';\n",
              "          element.innerHTML = '';\n",
              "          dataTable['output_type'] = 'display_data';\n",
              "          await google.colab.output.renderOutput(dataTable, element);\n",
              "          const docLink = document.createElement('div');\n",
              "          docLink.innerHTML = docLinkHtml;\n",
              "          element.appendChild(docLink);\n",
              "        }\n",
              "      </script>\n",
              "    </div>\n",
              "  </div>\n",
              "  "
            ]
          },
          "metadata": {},
          "execution_count": 8
        }
      ]
    },
    {
      "cell_type": "code",
      "source": [
        "df_train,df_valid = model_selection.train_test_split(\n",
        "                    df,\n",
        "                    test_size=0.1,\n",
        "                    random_state=42,\n",
        "                    shuffle=True)\n",
        "df_train = df_train.reset_index(drop=True)\n",
        "df_valid = df_valid.reset_index(drop=True)"
      ],
      "metadata": {
        "id": "ow5-5m8fKiCU"
      },
      "execution_count": 8,
      "outputs": []
    },
    {
      "cell_type": "code",
      "source": [
        "df_train"
      ],
      "metadata": {
        "colab": {
          "base_uri": "https://localhost:8080/",
          "height": 424
        },
        "id": "otN8N6HjQcaN",
        "outputId": "54e53627-355f-40a3-af5c-d5cdf7c9dd8b"
      },
      "execution_count": null,
      "outputs": [
        {
          "output_type": "execute_result",
          "data": {
            "text/plain": [
              "       image_id                                             bboxes\n",
              "0     6d34eb3b2  [[391, 760, 87, 80], [208, 400, 149, 79], [215...\n",
              "1     c7c00c1a3  [[91, 10, 91, 66], [753, 0, 58, 38], [570, 0, ...\n",
              "2     09b4141a6  [[245.0, 240.0, 113.0, 110.0], [296.0, 709.0, ...\n",
              "3     e837f4e67  [[491.0, 473.0, 159.0, 87.0], [558.0, 225.0, 8...\n",
              "4     f1d20d58a  [[459.0, 917.0, 153.0, 103.0], [684.0, 5.0, 60...\n",
              "...         ...                                                ...\n",
              "3030  536ef8d03  [[483.0, 4.0, 144.0, 92.0], [50.0, 246.0, 150....\n",
              "3031  572a469e9  [[458.0, 619.0, 109.0, 90.0], [825.0, 604.0, 8...\n",
              "3032  63c4e8cda  [[84, 83, 190, 123], [260, 56, 181, 145], [7, ...\n",
              "3033  444977945  [[542.0, 0.0, 87.0, 46.0], [529.0, 175.0, 90.0...\n",
              "3034  f1144b38d  [[724.0, 17.0, 87.0, 67.0], [617.0, 812.0, 114...\n",
              "\n",
              "[3035 rows x 2 columns]"
            ],
            "text/html": [
              "\n",
              "  <div id=\"df-b621b483-3b2a-4e26-a90f-acffcc7fbcc8\">\n",
              "    <div class=\"colab-df-container\">\n",
              "      <div>\n",
              "<style scoped>\n",
              "    .dataframe tbody tr th:only-of-type {\n",
              "        vertical-align: middle;\n",
              "    }\n",
              "\n",
              "    .dataframe tbody tr th {\n",
              "        vertical-align: top;\n",
              "    }\n",
              "\n",
              "    .dataframe thead th {\n",
              "        text-align: right;\n",
              "    }\n",
              "</style>\n",
              "<table border=\"1\" class=\"dataframe\">\n",
              "  <thead>\n",
              "    <tr style=\"text-align: right;\">\n",
              "      <th></th>\n",
              "      <th>image_id</th>\n",
              "      <th>bboxes</th>\n",
              "    </tr>\n",
              "  </thead>\n",
              "  <tbody>\n",
              "    <tr>\n",
              "      <th>0</th>\n",
              "      <td>6d34eb3b2</td>\n",
              "      <td>[[391, 760, 87, 80], [208, 400, 149, 79], [215...</td>\n",
              "    </tr>\n",
              "    <tr>\n",
              "      <th>1</th>\n",
              "      <td>c7c00c1a3</td>\n",
              "      <td>[[91, 10, 91, 66], [753, 0, 58, 38], [570, 0, ...</td>\n",
              "    </tr>\n",
              "    <tr>\n",
              "      <th>2</th>\n",
              "      <td>09b4141a6</td>\n",
              "      <td>[[245.0, 240.0, 113.0, 110.0], [296.0, 709.0, ...</td>\n",
              "    </tr>\n",
              "    <tr>\n",
              "      <th>3</th>\n",
              "      <td>e837f4e67</td>\n",
              "      <td>[[491.0, 473.0, 159.0, 87.0], [558.0, 225.0, 8...</td>\n",
              "    </tr>\n",
              "    <tr>\n",
              "      <th>4</th>\n",
              "      <td>f1d20d58a</td>\n",
              "      <td>[[459.0, 917.0, 153.0, 103.0], [684.0, 5.0, 60...</td>\n",
              "    </tr>\n",
              "    <tr>\n",
              "      <th>...</th>\n",
              "      <td>...</td>\n",
              "      <td>...</td>\n",
              "    </tr>\n",
              "    <tr>\n",
              "      <th>3030</th>\n",
              "      <td>536ef8d03</td>\n",
              "      <td>[[483.0, 4.0, 144.0, 92.0], [50.0, 246.0, 150....</td>\n",
              "    </tr>\n",
              "    <tr>\n",
              "      <th>3031</th>\n",
              "      <td>572a469e9</td>\n",
              "      <td>[[458.0, 619.0, 109.0, 90.0], [825.0, 604.0, 8...</td>\n",
              "    </tr>\n",
              "    <tr>\n",
              "      <th>3032</th>\n",
              "      <td>63c4e8cda</td>\n",
              "      <td>[[84, 83, 190, 123], [260, 56, 181, 145], [7, ...</td>\n",
              "    </tr>\n",
              "    <tr>\n",
              "      <th>3033</th>\n",
              "      <td>444977945</td>\n",
              "      <td>[[542.0, 0.0, 87.0, 46.0], [529.0, 175.0, 90.0...</td>\n",
              "    </tr>\n",
              "    <tr>\n",
              "      <th>3034</th>\n",
              "      <td>f1144b38d</td>\n",
              "      <td>[[724.0, 17.0, 87.0, 67.0], [617.0, 812.0, 114...</td>\n",
              "    </tr>\n",
              "  </tbody>\n",
              "</table>\n",
              "<p>3035 rows × 2 columns</p>\n",
              "</div>\n",
              "      <button class=\"colab-df-convert\" onclick=\"convertToInteractive('df-b621b483-3b2a-4e26-a90f-acffcc7fbcc8')\"\n",
              "              title=\"Convert this dataframe to an interactive table.\"\n",
              "              style=\"display:none;\">\n",
              "        \n",
              "  <svg xmlns=\"http://www.w3.org/2000/svg\" height=\"24px\"viewBox=\"0 0 24 24\"\n",
              "       width=\"24px\">\n",
              "    <path d=\"M0 0h24v24H0V0z\" fill=\"none\"/>\n",
              "    <path d=\"M18.56 5.44l.94 2.06.94-2.06 2.06-.94-2.06-.94-.94-2.06-.94 2.06-2.06.94zm-11 1L8.5 8.5l.94-2.06 2.06-.94-2.06-.94L8.5 2.5l-.94 2.06-2.06.94zm10 10l.94 2.06.94-2.06 2.06-.94-2.06-.94-.94-2.06-.94 2.06-2.06.94z\"/><path d=\"M17.41 7.96l-1.37-1.37c-.4-.4-.92-.59-1.43-.59-.52 0-1.04.2-1.43.59L10.3 9.45l-7.72 7.72c-.78.78-.78 2.05 0 2.83L4 21.41c.39.39.9.59 1.41.59.51 0 1.02-.2 1.41-.59l7.78-7.78 2.81-2.81c.8-.78.8-2.07 0-2.86zM5.41 20L4 18.59l7.72-7.72 1.47 1.35L5.41 20z\"/>\n",
              "  </svg>\n",
              "      </button>\n",
              "      \n",
              "  <style>\n",
              "    .colab-df-container {\n",
              "      display:flex;\n",
              "      flex-wrap:wrap;\n",
              "      gap: 12px;\n",
              "    }\n",
              "\n",
              "    .colab-df-convert {\n",
              "      background-color: #E8F0FE;\n",
              "      border: none;\n",
              "      border-radius: 50%;\n",
              "      cursor: pointer;\n",
              "      display: none;\n",
              "      fill: #1967D2;\n",
              "      height: 32px;\n",
              "      padding: 0 0 0 0;\n",
              "      width: 32px;\n",
              "    }\n",
              "\n",
              "    .colab-df-convert:hover {\n",
              "      background-color: #E2EBFA;\n",
              "      box-shadow: 0px 1px 2px rgba(60, 64, 67, 0.3), 0px 1px 3px 1px rgba(60, 64, 67, 0.15);\n",
              "      fill: #174EA6;\n",
              "    }\n",
              "\n",
              "    [theme=dark] .colab-df-convert {\n",
              "      background-color: #3B4455;\n",
              "      fill: #D2E3FC;\n",
              "    }\n",
              "\n",
              "    [theme=dark] .colab-df-convert:hover {\n",
              "      background-color: #434B5C;\n",
              "      box-shadow: 0px 1px 3px 1px rgba(0, 0, 0, 0.15);\n",
              "      filter: drop-shadow(0px 1px 2px rgba(0, 0, 0, 0.3));\n",
              "      fill: #FFFFFF;\n",
              "    }\n",
              "  </style>\n",
              "\n",
              "      <script>\n",
              "        const buttonEl =\n",
              "          document.querySelector('#df-b621b483-3b2a-4e26-a90f-acffcc7fbcc8 button.colab-df-convert');\n",
              "        buttonEl.style.display =\n",
              "          google.colab.kernel.accessAllowed ? 'block' : 'none';\n",
              "\n",
              "        async function convertToInteractive(key) {\n",
              "          const element = document.querySelector('#df-b621b483-3b2a-4e26-a90f-acffcc7fbcc8');\n",
              "          const dataTable =\n",
              "            await google.colab.kernel.invokeFunction('convertToInteractive',\n",
              "                                                     [key], {});\n",
              "          if (!dataTable) return;\n",
              "\n",
              "          const docLinkHtml = 'Like what you see? Visit the ' +\n",
              "            '<a target=\"_blank\" href=https://colab.research.google.com/notebooks/data_table.ipynb>data table notebook</a>'\n",
              "            + ' to learn more about interactive tables.';\n",
              "          element.innerHTML = '';\n",
              "          dataTable['output_type'] = 'display_data';\n",
              "          await google.colab.output.renderOutput(dataTable, element);\n",
              "          const docLink = document.createElement('div');\n",
              "          docLink.innerHTML = docLinkHtml;\n",
              "          element.appendChild(docLink);\n",
              "        }\n",
              "      </script>\n",
              "    </div>\n",
              "  </div>\n",
              "  "
            ]
          },
          "metadata": {},
          "execution_count": 10
        }
      ]
    },
    {
      "cell_type": "code",
      "source": [
        "img = Image.open('/content/wheat_data/input/train/00333207f.jpg')"
      ],
      "metadata": {
        "id": "btCBOGIfKiI-"
      },
      "execution_count": 9,
      "outputs": []
    },
    {
      "cell_type": "code",
      "source": [
        "img.size"
      ],
      "metadata": {
        "colab": {
          "base_uri": "https://localhost:8080/"
        },
        "id": "BWcEg3kKLX9y",
        "outputId": "cfa901cf-6403-42df-ca4d-b03c27c9a09c"
      },
      "execution_count": 10,
      "outputs": [
        {
          "output_type": "execute_result",
          "data": {
            "text/plain": [
              "(1024, 1024)"
            ]
          },
          "metadata": {},
          "execution_count": 10
        }
      ]
    },
    {
      "cell_type": "code",
      "source": [
        "def process_data(data,data_type='train'):\n",
        "    for _,row in tqdm(data.iterrows(),total=len(data)):\n",
        "        image_name = row['image_id']\n",
        "        bounding_boxes = row['bboxes']\n",
        "        yolo_data = []\n",
        "        for bbox in bounding_boxes:\n",
        "            x = bbox[0]\n",
        "            y = bbox[1]\n",
        "            w = bbox[2]/1024\n",
        "            h = bbox[3]/1024\n",
        "            x_center = (x+w/2)/1024\n",
        "            y_center = (y+h/2)/1024\n",
        "            yolo_data.append([0,x_center,y_center,w,h])#['class',x_center,y_center,w,h]\n",
        "        yolo_data = np.array(yolo_data)\n",
        "        np.savetxt(\n",
        "            os.path.join(OUTPUT_PATH,f\"labels/{data_type}/{image_name}.txt\"),\n",
        "            yolo_data,\n",
        "            fmt=['%d','%f','%f','%f','%f']\n",
        "        )\n",
        "        shutil.copyfile(\n",
        "            os.path.join(DATA_PATH,f\"train/{image_name}.jpg\"),\n",
        "            os.path.join(OUTPUT_PATH,f\"images/{data_type}/{image_name}.jpg\"),\n",
        "        )"
      ],
      "metadata": {
        "id": "8t4I5eDELacb"
      },
      "execution_count": 11,
      "outputs": []
    },
    {
      "cell_type": "code",
      "source": [
        "process_data(df_train,data_type='train')\n",
        "process_data(df_valid,data_type='validation')"
      ],
      "metadata": {
        "colab": {
          "base_uri": "https://localhost:8080/"
        },
        "id": "ISILLpnBPtI6",
        "outputId": "750aadd7-77b8-4ae8-9664-e659f4038a02"
      },
      "execution_count": 13,
      "outputs": [
        {
          "output_type": "stream",
          "name": "stderr",
          "text": [
            "100%|██████████| 3035/3035 [00:03<00:00, 860.63it/s]\n",
            "100%|██████████| 338/338 [00:00<00:00, 1025.14it/s]\n"
          ]
        }
      ]
    },
    {
      "cell_type": "code",
      "source": [
        "!pip install -r /content/yolo/yolov5-master/requirements.txt"
      ],
      "metadata": {
        "colab": {
          "base_uri": "https://localhost:8080/"
        },
        "id": "kE3T3UPbloIN",
        "outputId": "e3c74b3a-8446-475a-c407-8f0998941f4b"
      },
      "execution_count": 15,
      "outputs": [
        {
          "output_type": "stream",
          "name": "stdout",
          "text": [
            "Looking in indexes: https://pypi.org/simple, https://us-python.pkg.dev/colab-wheels/public/simple/\n",
            "Requirement already satisfied: matplotlib>=3.2.2 in /usr/local/lib/python3.7/dist-packages (from -r /content/yolo/yolov5-master/requirements.txt (line 5)) (3.2.2)\n",
            "Requirement already satisfied: numpy>=1.18.5 in /usr/local/lib/python3.7/dist-packages (from -r /content/yolo/yolov5-master/requirements.txt (line 6)) (1.21.6)\n",
            "Requirement already satisfied: opencv-python>=4.1.1 in /usr/local/lib/python3.7/dist-packages (from -r /content/yolo/yolov5-master/requirements.txt (line 7)) (4.1.2.30)\n",
            "Requirement already satisfied: Pillow>=7.1.2 in /usr/local/lib/python3.7/dist-packages (from -r /content/yolo/yolov5-master/requirements.txt (line 8)) (7.1.2)\n",
            "Requirement already satisfied: PyYAML>=5.3.1 in /usr/local/lib/python3.7/dist-packages (from -r /content/yolo/yolov5-master/requirements.txt (line 9)) (6.0)\n",
            "Requirement already satisfied: requests>=2.23.0 in /usr/local/lib/python3.7/dist-packages (from -r /content/yolo/yolov5-master/requirements.txt (line 10)) (2.23.0)\n",
            "Requirement already satisfied: scipy>=1.4.1 in /usr/local/lib/python3.7/dist-packages (from -r /content/yolo/yolov5-master/requirements.txt (line 11)) (1.4.1)\n",
            "Requirement already satisfied: torch>=1.7.0 in /usr/local/lib/python3.7/dist-packages (from -r /content/yolo/yolov5-master/requirements.txt (line 12)) (1.11.0+cu113)\n",
            "Requirement already satisfied: torchvision>=0.8.1 in /usr/local/lib/python3.7/dist-packages (from -r /content/yolo/yolov5-master/requirements.txt (line 13)) (0.12.0+cu113)\n",
            "Requirement already satisfied: tqdm>=4.41.0 in /usr/local/lib/python3.7/dist-packages (from -r /content/yolo/yolov5-master/requirements.txt (line 14)) (4.64.0)\n",
            "Requirement already satisfied: protobuf<4.21.3 in /usr/local/lib/python3.7/dist-packages (from -r /content/yolo/yolov5-master/requirements.txt (line 15)) (3.17.3)\n",
            "Requirement already satisfied: tensorboard>=2.4.1 in /usr/local/lib/python3.7/dist-packages (from -r /content/yolo/yolov5-master/requirements.txt (line 18)) (2.8.0)\n",
            "Requirement already satisfied: pandas>=1.1.4 in /usr/local/lib/python3.7/dist-packages (from -r /content/yolo/yolov5-master/requirements.txt (line 22)) (1.3.5)\n",
            "Requirement already satisfied: seaborn>=0.11.0 in /usr/local/lib/python3.7/dist-packages (from -r /content/yolo/yolov5-master/requirements.txt (line 23)) (0.11.2)\n",
            "Requirement already satisfied: ipython in /usr/local/lib/python3.7/dist-packages (from -r /content/yolo/yolov5-master/requirements.txt (line 35)) (5.5.0)\n",
            "Requirement already satisfied: psutil in /usr/local/lib/python3.7/dist-packages (from -r /content/yolo/yolov5-master/requirements.txt (line 36)) (5.4.8)\n",
            "Collecting thop\n",
            "  Downloading thop-0.1.0.post2207010342-py3-none-any.whl (15 kB)\n",
            "Requirement already satisfied: pyparsing!=2.0.4,!=2.1.2,!=2.1.6,>=2.0.1 in /usr/local/lib/python3.7/dist-packages (from matplotlib>=3.2.2->-r /content/yolo/yolov5-master/requirements.txt (line 5)) (3.0.9)\n",
            "Requirement already satisfied: kiwisolver>=1.0.1 in /usr/local/lib/python3.7/dist-packages (from matplotlib>=3.2.2->-r /content/yolo/yolov5-master/requirements.txt (line 5)) (1.4.3)\n",
            "Requirement already satisfied: python-dateutil>=2.1 in /usr/local/lib/python3.7/dist-packages (from matplotlib>=3.2.2->-r /content/yolo/yolov5-master/requirements.txt (line 5)) (2.8.2)\n",
            "Requirement already satisfied: cycler>=0.10 in /usr/local/lib/python3.7/dist-packages (from matplotlib>=3.2.2->-r /content/yolo/yolov5-master/requirements.txt (line 5)) (0.11.0)\n",
            "Requirement already satisfied: certifi>=2017.4.17 in /usr/local/lib/python3.7/dist-packages (from requests>=2.23.0->-r /content/yolo/yolov5-master/requirements.txt (line 10)) (2022.6.15)\n",
            "Requirement already satisfied: chardet<4,>=3.0.2 in /usr/local/lib/python3.7/dist-packages (from requests>=2.23.0->-r /content/yolo/yolov5-master/requirements.txt (line 10)) (3.0.4)\n",
            "Requirement already satisfied: idna<3,>=2.5 in /usr/local/lib/python3.7/dist-packages (from requests>=2.23.0->-r /content/yolo/yolov5-master/requirements.txt (line 10)) (2.10)\n",
            "Requirement already satisfied: urllib3!=1.25.0,!=1.25.1,<1.26,>=1.21.1 in /usr/local/lib/python3.7/dist-packages (from requests>=2.23.0->-r /content/yolo/yolov5-master/requirements.txt (line 10)) (1.24.3)\n",
            "Requirement already satisfied: typing-extensions in /usr/local/lib/python3.7/dist-packages (from torch>=1.7.0->-r /content/yolo/yolov5-master/requirements.txt (line 12)) (4.1.1)\n",
            "Requirement already satisfied: six>=1.9 in /usr/local/lib/python3.7/dist-packages (from protobuf<4.21.3->-r /content/yolo/yolov5-master/requirements.txt (line 15)) (1.15.0)\n",
            "Requirement already satisfied: absl-py>=0.4 in /usr/local/lib/python3.7/dist-packages (from tensorboard>=2.4.1->-r /content/yolo/yolov5-master/requirements.txt (line 18)) (1.1.0)\n",
            "Requirement already satisfied: setuptools>=41.0.0 in /usr/local/lib/python3.7/dist-packages (from tensorboard>=2.4.1->-r /content/yolo/yolov5-master/requirements.txt (line 18)) (57.4.0)\n",
            "Requirement already satisfied: google-auth-oauthlib<0.5,>=0.4.1 in /usr/local/lib/python3.7/dist-packages (from tensorboard>=2.4.1->-r /content/yolo/yolov5-master/requirements.txt (line 18)) (0.4.6)\n",
            "Requirement already satisfied: wheel>=0.26 in /usr/local/lib/python3.7/dist-packages (from tensorboard>=2.4.1->-r /content/yolo/yolov5-master/requirements.txt (line 18)) (0.37.1)\n",
            "Requirement already satisfied: tensorboard-plugin-wit>=1.6.0 in /usr/local/lib/python3.7/dist-packages (from tensorboard>=2.4.1->-r /content/yolo/yolov5-master/requirements.txt (line 18)) (1.8.1)\n",
            "Requirement already satisfied: grpcio>=1.24.3 in /usr/local/lib/python3.7/dist-packages (from tensorboard>=2.4.1->-r /content/yolo/yolov5-master/requirements.txt (line 18)) (1.46.3)\n",
            "Requirement already satisfied: markdown>=2.6.8 in /usr/local/lib/python3.7/dist-packages (from tensorboard>=2.4.1->-r /content/yolo/yolov5-master/requirements.txt (line 18)) (3.3.7)\n",
            "Requirement already satisfied: werkzeug>=0.11.15 in /usr/local/lib/python3.7/dist-packages (from tensorboard>=2.4.1->-r /content/yolo/yolov5-master/requirements.txt (line 18)) (1.0.1)\n",
            "Requirement already satisfied: google-auth<3,>=1.6.3 in /usr/local/lib/python3.7/dist-packages (from tensorboard>=2.4.1->-r /content/yolo/yolov5-master/requirements.txt (line 18)) (1.35.0)\n",
            "Requirement already satisfied: tensorboard-data-server<0.7.0,>=0.6.0 in /usr/local/lib/python3.7/dist-packages (from tensorboard>=2.4.1->-r /content/yolo/yolov5-master/requirements.txt (line 18)) (0.6.1)\n",
            "Requirement already satisfied: pytz>=2017.3 in /usr/local/lib/python3.7/dist-packages (from pandas>=1.1.4->-r /content/yolo/yolov5-master/requirements.txt (line 22)) (2022.1)\n",
            "Requirement already satisfied: pyasn1-modules>=0.2.1 in /usr/local/lib/python3.7/dist-packages (from google-auth<3,>=1.6.3->tensorboard>=2.4.1->-r /content/yolo/yolov5-master/requirements.txt (line 18)) (0.2.8)\n",
            "Requirement already satisfied: rsa<5,>=3.1.4 in /usr/local/lib/python3.7/dist-packages (from google-auth<3,>=1.6.3->tensorboard>=2.4.1->-r /content/yolo/yolov5-master/requirements.txt (line 18)) (4.8)\n",
            "Requirement already satisfied: cachetools<5.0,>=2.0.0 in /usr/local/lib/python3.7/dist-packages (from google-auth<3,>=1.6.3->tensorboard>=2.4.1->-r /content/yolo/yolov5-master/requirements.txt (line 18)) (4.2.4)\n",
            "Requirement already satisfied: requests-oauthlib>=0.7.0 in /usr/local/lib/python3.7/dist-packages (from google-auth-oauthlib<0.5,>=0.4.1->tensorboard>=2.4.1->-r /content/yolo/yolov5-master/requirements.txt (line 18)) (1.3.1)\n",
            "Requirement already satisfied: importlib-metadata>=4.4 in /usr/local/lib/python3.7/dist-packages (from markdown>=2.6.8->tensorboard>=2.4.1->-r /content/yolo/yolov5-master/requirements.txt (line 18)) (4.11.4)\n",
            "Requirement already satisfied: zipp>=0.5 in /usr/local/lib/python3.7/dist-packages (from importlib-metadata>=4.4->markdown>=2.6.8->tensorboard>=2.4.1->-r /content/yolo/yolov5-master/requirements.txt (line 18)) (3.8.0)\n",
            "Requirement already satisfied: pyasn1<0.5.0,>=0.4.6 in /usr/local/lib/python3.7/dist-packages (from pyasn1-modules>=0.2.1->google-auth<3,>=1.6.3->tensorboard>=2.4.1->-r /content/yolo/yolov5-master/requirements.txt (line 18)) (0.4.8)\n",
            "Requirement already satisfied: oauthlib>=3.0.0 in /usr/local/lib/python3.7/dist-packages (from requests-oauthlib>=0.7.0->google-auth-oauthlib<0.5,>=0.4.1->tensorboard>=2.4.1->-r /content/yolo/yolov5-master/requirements.txt (line 18)) (3.2.0)\n",
            "Requirement already satisfied: decorator in /usr/local/lib/python3.7/dist-packages (from ipython->-r /content/yolo/yolov5-master/requirements.txt (line 35)) (4.4.2)\n",
            "Requirement already satisfied: prompt-toolkit<2.0.0,>=1.0.4 in /usr/local/lib/python3.7/dist-packages (from ipython->-r /content/yolo/yolov5-master/requirements.txt (line 35)) (1.0.18)\n",
            "Requirement already satisfied: simplegeneric>0.8 in /usr/local/lib/python3.7/dist-packages (from ipython->-r /content/yolo/yolov5-master/requirements.txt (line 35)) (0.8.1)\n",
            "Requirement already satisfied: pygments in /usr/local/lib/python3.7/dist-packages (from ipython->-r /content/yolo/yolov5-master/requirements.txt (line 35)) (2.6.1)\n",
            "Requirement already satisfied: traitlets>=4.2 in /usr/local/lib/python3.7/dist-packages (from ipython->-r /content/yolo/yolov5-master/requirements.txt (line 35)) (5.1.1)\n",
            "Requirement already satisfied: pickleshare in /usr/local/lib/python3.7/dist-packages (from ipython->-r /content/yolo/yolov5-master/requirements.txt (line 35)) (0.7.5)\n",
            "Requirement already satisfied: pexpect in /usr/local/lib/python3.7/dist-packages (from ipython->-r /content/yolo/yolov5-master/requirements.txt (line 35)) (4.8.0)\n",
            "Requirement already satisfied: wcwidth in /usr/local/lib/python3.7/dist-packages (from prompt-toolkit<2.0.0,>=1.0.4->ipython->-r /content/yolo/yolov5-master/requirements.txt (line 35)) (0.2.5)\n",
            "Requirement already satisfied: ptyprocess>=0.5 in /usr/local/lib/python3.7/dist-packages (from pexpect->ipython->-r /content/yolo/yolov5-master/requirements.txt (line 35)) (0.7.0)\n",
            "Installing collected packages: thop\n",
            "Successfully installed thop-0.1.0.post2207010342\n"
          ]
        }
      ]
    },
    {
      "cell_type": "code",
      "source": [
        "! python /content/yolo/yolov5-master/train.py --img 1024 --batch 8 --epochs 20 --data /content/yolo/yolov5-master/wheat.yaml --cfg /content/yolo/yolov5-master/models/yolov5s.yaml --name wm_20e_pt --weights /content/yolo/yolov5-master/yolov5s.pt"
      ],
      "metadata": {
        "colab": {
          "base_uri": "https://localhost:8080/"
        },
        "id": "IUgeaLEDbB9h",
        "outputId": "49ce2dc2-65c8-404c-a99f-4b928b10eccf"
      },
      "execution_count": 18,
      "outputs": [
        {
          "output_type": "stream",
          "name": "stdout",
          "text": [
            "\u001b[34m\u001b[1mtrain: \u001b[0mweights=/content/yolo/yolov5-master/yolov5s.pt, cfg=/content/yolo/yolov5-master/models/yolov5s.yaml, data=/content/yolo/yolov5-master/wheat.yaml, hyp=yolo/yolov5-master/data/hyps/hyp.scratch-low.yaml, epochs=20, batch_size=8, imgsz=1024, rect=False, resume=False, nosave=False, noval=False, noautoanchor=False, noplots=False, evolve=None, bucket=, cache=None, image_weights=False, device=, multi_scale=False, single_cls=False, optimizer=SGD, sync_bn=False, workers=8, project=yolo/yolov5-master/runs/train, name=wm_20e_pt, exist_ok=False, quad=False, cos_lr=False, label_smoothing=0.0, patience=100, freeze=[0], save_period=-1, local_rank=-1, entity=None, upload_dataset=False, bbox_interval=-1, artifact_alias=latest\n",
            "\u001b[34m\u001b[1mgithub: \u001b[0mskipping check (not a git repository), for updates see https://github.com/ultralytics/yolov5\n",
            "YOLOv5 🚀 2022-7-4 Python-3.7.13 torch-1.11.0+cu113 CUDA:0 (Tesla T4, 15110MiB)\n",
            "\n",
            "\u001b[34m\u001b[1mhyperparameters: \u001b[0mlr0=0.01, lrf=0.01, momentum=0.937, weight_decay=0.0005, warmup_epochs=3.0, warmup_momentum=0.8, warmup_bias_lr=0.1, box=0.05, cls=0.5, cls_pw=1.0, obj=1.0, obj_pw=1.0, iou_t=0.2, anchor_t=4.0, fl_gamma=0.0, hsv_h=0.015, hsv_s=0.7, hsv_v=0.4, degrees=0.0, translate=0.1, scale=0.5, shear=0.0, perspective=0.0, flipud=0.0, fliplr=0.5, mosaic=1.0, mixup=0.0, copy_paste=0.0\n",
            "\u001b[34m\u001b[1mWeights & Biases: \u001b[0mrun 'pip install wandb' to automatically track and visualize YOLOv5 🚀 runs (RECOMMENDED)\n",
            "\u001b[34m\u001b[1mTensorBoard: \u001b[0mStart with 'tensorboard --logdir yolo/yolov5-master/runs/train', view at http://localhost:6006/\n",
            "Overriding model.yaml nc=80 with nc=1\n",
            "\n",
            "                 from  n    params  module                                  arguments                     \n",
            "  0                -1  1      3520  models.common.Conv                      [3, 32, 6, 2, 2]              \n",
            "  1                -1  1     18560  models.common.Conv                      [32, 64, 3, 2]                \n",
            "  2                -1  1     18816  models.common.C3                        [64, 64, 1]                   \n",
            "  3                -1  1     73984  models.common.Conv                      [64, 128, 3, 2]               \n",
            "  4                -1  2    115712  models.common.C3                        [128, 128, 2]                 \n",
            "  5                -1  1    295424  models.common.Conv                      [128, 256, 3, 2]              \n",
            "  6                -1  3    625152  models.common.C3                        [256, 256, 3]                 \n",
            "  7                -1  1   1180672  models.common.Conv                      [256, 512, 3, 2]              \n",
            "  8                -1  1   1182720  models.common.C3                        [512, 512, 1]                 \n",
            "  9                -1  1    656896  models.common.SPPF                      [512, 512, 5]                 \n",
            " 10                -1  1    131584  models.common.Conv                      [512, 256, 1, 1]              \n",
            " 11                -1  1         0  torch.nn.modules.upsampling.Upsample    [None, 2, 'nearest']          \n",
            " 12           [-1, 6]  1         0  models.common.Concat                    [1]                           \n",
            " 13                -1  1    361984  models.common.C3                        [512, 256, 1, False]          \n",
            " 14                -1  1     33024  models.common.Conv                      [256, 128, 1, 1]              \n",
            " 15                -1  1         0  torch.nn.modules.upsampling.Upsample    [None, 2, 'nearest']          \n",
            " 16           [-1, 4]  1         0  models.common.Concat                    [1]                           \n",
            " 17                -1  1     90880  models.common.C3                        [256, 128, 1, False]          \n",
            " 18                -1  1    147712  models.common.Conv                      [128, 128, 3, 2]              \n",
            " 19          [-1, 14]  1         0  models.common.Concat                    [1]                           \n",
            " 20                -1  1    296448  models.common.C3                        [256, 256, 1, False]          \n",
            " 21                -1  1    590336  models.common.Conv                      [256, 256, 3, 2]              \n",
            " 22          [-1, 10]  1         0  models.common.Concat                    [1]                           \n",
            " 23                -1  1   1182720  models.common.C3                        [512, 512, 1, False]          \n",
            " 24      [17, 20, 23]  1     16182  models.yolo.Detect                      [1, [[10, 13, 16, 30, 33, 23], [30, 61, 62, 45, 59, 119], [116, 90, 156, 198, 373, 326]], [128, 256, 512]]\n",
            "YOLOv5s summary: 270 layers, 7022326 parameters, 7022326 gradients, 15.9 GFLOPs\n",
            "\n",
            "Transferred 342/349 items from /content/yolo/yolov5-master/yolov5s.pt\n",
            "\u001b[34m\u001b[1mAMP: \u001b[0mchecks passed ✅\n",
            "Scaled weight_decay = 0.0005\n",
            "\u001b[34m\u001b[1moptimizer:\u001b[0m SGD with parameter groups 57 weight (no decay), 60 weight, 60 bias\n",
            "\u001b[34m\u001b[1malbumentations: \u001b[0mversion 1.0.3 required by YOLOv5, but version 0.1.12 is currently installed\n",
            "\u001b[34m\u001b[1mtrain: \u001b[0mScanning '/content/yolo/yolov5-master/wheat_data/labels/train.cache' images and labels... 3035 found, 0 missing, 0 empty, 0 corrupt: 100% 3035/3035 [00:00<?, ?it/s]\n",
            "\u001b[34m\u001b[1mval: \u001b[0mScanning '/content/yolo/yolov5-master/wheat_data/labels/validation.cache' images and labels... 338 found, 0 missing, 0 empty, 0 corrupt: 100% 338/338 [00:00<?, ?it/s]\n",
            "Plotting labels to yolo/yolov5-master/runs/train/wm_20e_pt/labels.jpg... \n",
            "\n",
            "\u001b[34m\u001b[1mAutoAnchor: \u001b[0m5.72 anchors/target, 0.999 Best Possible Recall (BPR). Current anchors are a good fit to dataset ✅\n",
            "Image sizes 1024 train, 1024 val\n",
            "Using 2 dataloader workers\n",
            "Logging results to \u001b[1myolo/yolov5-master/runs/train/wm_20e_pt\u001b[0m\n",
            "Starting training for 20 epochs...\n",
            "\n",
            "     Epoch   gpu_mem       box       obj       cls    labels  img_size\n",
            "      0/19     4.64G   0.08875    0.4328         0       137      1024: 100% 380/380 [03:55<00:00,  1.62it/s]\n",
            "               Class     Images     Labels          P          R     mAP@.5 mAP@.5:.95:   0% 0/22 [00:00<?, ?it/s]WARNING: NMS time limit 0.780s exceeded\n",
            "               Class     Images     Labels          P          R     mAP@.5 mAP@.5:.95:   5% 1/22 [00:01<00:24,  1.18s/it]WARNING: NMS time limit 0.780s exceeded\n",
            "               Class     Images     Labels          P          R     mAP@.5 mAP@.5:.95: 100% 22/22 [00:16<00:00,  1.35it/s]\n",
            "                 all        338      14808      0.292      0.483       0.26     0.0785\n",
            "\n",
            "     Epoch   gpu_mem       box       obj       cls    labels  img_size\n",
            "      1/19     5.75G    0.0684    0.4339         0       166      1024: 100% 380/380 [03:51<00:00,  1.64it/s]\n",
            "               Class     Images     Labels          P          R     mAP@.5 mAP@.5:.95: 100% 22/22 [00:12<00:00,  1.81it/s]\n",
            "                 all        338      15129      0.345      0.637      0.405      0.141\n",
            "\n",
            "     Epoch   gpu_mem       box       obj       cls    labels  img_size\n",
            "      2/19     5.75G   0.06295    0.4395         0       246      1024: 100% 380/380 [03:50<00:00,  1.65it/s]\n",
            "               Class     Images     Labels          P          R     mAP@.5 mAP@.5:.95: 100% 22/22 [00:12<00:00,  1.72it/s]\n",
            "                 all        338      15129      0.292      0.588      0.283        0.1\n",
            "\n",
            "     Epoch   gpu_mem       box       obj       cls    labels  img_size\n",
            "      3/19     5.75G   0.05704    0.4272         0       118      1024: 100% 380/380 [03:51<00:00,  1.64it/s]\n",
            "               Class     Images     Labels          P          R     mAP@.5 mAP@.5:.95: 100% 22/22 [00:11<00:00,  1.91it/s]\n",
            "                 all        338      15129      0.634       0.71      0.696      0.268\n",
            "\n",
            "     Epoch   gpu_mem       box       obj       cls    labels  img_size\n",
            "      4/19     5.75G   0.05324    0.4138         0       149      1024: 100% 380/380 [03:50<00:00,  1.65it/s]\n",
            "               Class     Images     Labels          P          R     mAP@.5 mAP@.5:.95: 100% 22/22 [00:11<00:00,  1.97it/s]\n",
            "                 all        338      15129      0.442      0.636      0.557      0.224\n",
            "\n",
            "     Epoch   gpu_mem       box       obj       cls    labels  img_size\n",
            "      5/19     5.75G   0.05083    0.4109         0       194      1024: 100% 380/380 [03:47<00:00,  1.67it/s]\n",
            "               Class     Images     Labels          P          R     mAP@.5 mAP@.5:.95: 100% 22/22 [00:11<00:00,  1.86it/s]\n",
            "                 all        338      15129      0.752      0.755       0.78      0.332\n",
            "\n",
            "     Epoch   gpu_mem       box       obj       cls    labels  img_size\n",
            "      6/19     5.75G   0.04912    0.3992         0       123      1024: 100% 380/380 [03:48<00:00,  1.67it/s]\n",
            "               Class     Images     Labels          P          R     mAP@.5 mAP@.5:.95: 100% 22/22 [00:11<00:00,  1.91it/s]\n",
            "                 all        338      15129      0.653      0.735      0.746      0.334\n",
            "\n",
            "     Epoch   gpu_mem       box       obj       cls    labels  img_size\n",
            "      7/19     5.75G   0.04833    0.3946         0       134      1024: 100% 380/380 [03:45<00:00,  1.68it/s]\n",
            "               Class     Images     Labels          P          R     mAP@.5 mAP@.5:.95: 100% 22/22 [00:10<00:00,  2.06it/s]\n",
            "                 all        338      15129       0.64      0.736      0.736      0.337\n",
            "\n",
            "     Epoch   gpu_mem       box       obj       cls    labels  img_size\n",
            "      8/19     5.75G    0.0475    0.3949         0       154      1024: 100% 380/380 [03:48<00:00,  1.66it/s]\n",
            "               Class     Images     Labels          P          R     mAP@.5 mAP@.5:.95: 100% 22/22 [00:10<00:00,  2.16it/s]\n",
            "                 all        338      15129       0.72       0.77      0.806      0.381\n",
            "\n",
            "     Epoch   gpu_mem       box       obj       cls    labels  img_size\n",
            "      9/19     5.75G   0.04621    0.3829         0       131      1024: 100% 380/380 [03:45<00:00,  1.69it/s]\n",
            "               Class     Images     Labels          P          R     mAP@.5 mAP@.5:.95: 100% 22/22 [00:10<00:00,  2.03it/s]\n",
            "                 all        338      15129      0.545      0.686      0.611      0.276\n",
            "\n",
            "     Epoch   gpu_mem       box       obj       cls    labels  img_size\n",
            "     10/19     5.75G   0.04622    0.3868         0       117      1024: 100% 380/380 [03:47<00:00,  1.67it/s]\n",
            "               Class     Images     Labels          P          R     mAP@.5 mAP@.5:.95: 100% 22/22 [00:10<00:00,  2.19it/s]\n",
            "                 all        338      15129      0.815      0.765      0.835      0.409\n",
            "\n",
            "     Epoch   gpu_mem       box       obj       cls    labels  img_size\n",
            "     11/19     5.75G   0.04543     0.384         0       204      1024: 100% 380/380 [03:45<00:00,  1.69it/s]\n",
            "               Class     Images     Labels          P          R     mAP@.5 mAP@.5:.95: 100% 22/22 [00:10<00:00,  2.15it/s]\n",
            "                 all        338      15129      0.822      0.762      0.842      0.408\n",
            "\n",
            "     Epoch   gpu_mem       box       obj       cls    labels  img_size\n",
            "     12/19     5.75G    0.0449    0.3765         0       175      1024: 100% 380/380 [03:46<00:00,  1.68it/s]\n",
            "               Class     Images     Labels          P          R     mAP@.5 mAP@.5:.95: 100% 22/22 [00:10<00:00,  2.15it/s]\n",
            "                 all        338      15129      0.831      0.778      0.846      0.418\n",
            "\n",
            "     Epoch   gpu_mem       box       obj       cls    labels  img_size\n",
            "     13/19     5.75G   0.04429    0.3726         0       150      1024: 100% 380/380 [03:45<00:00,  1.69it/s]\n",
            "               Class     Images     Labels          P          R     mAP@.5 mAP@.5:.95: 100% 22/22 [00:09<00:00,  2.24it/s]\n",
            "                 all        338      15129       0.79      0.757      0.829      0.407\n",
            "\n",
            "     Epoch   gpu_mem       box       obj       cls    labels  img_size\n",
            "     14/19     5.75G   0.04381    0.3669         0       159      1024: 100% 380/380 [03:48<00:00,  1.66it/s]\n",
            "               Class     Images     Labels          P          R     mAP@.5 mAP@.5:.95: 100% 22/22 [00:10<00:00,  2.06it/s]\n",
            "                 all        338      15129      0.753       0.75      0.792      0.392\n",
            "\n",
            "     Epoch   gpu_mem       box       obj       cls    labels  img_size\n",
            "     15/19     5.75G   0.04354    0.3697         0       143      1024: 100% 380/380 [03:54<00:00,  1.62it/s]\n",
            "               Class     Images     Labels          P          R     mAP@.5 mAP@.5:.95: 100% 22/22 [00:10<00:00,  2.10it/s]\n",
            "                 all        338      15129      0.796      0.786      0.843      0.424\n",
            "\n",
            "     Epoch   gpu_mem       box       obj       cls    labels  img_size\n",
            "     16/19     5.75G   0.04317     0.367         0       195      1024: 100% 380/380 [03:45<00:00,  1.69it/s]\n",
            "               Class     Images     Labels          P          R     mAP@.5 mAP@.5:.95: 100% 22/22 [00:10<00:00,  2.13it/s]\n",
            "                 all        338      15129      0.841      0.793      0.865      0.436\n",
            "\n",
            "     Epoch   gpu_mem       box       obj       cls    labels  img_size\n",
            "     17/19     5.75G   0.04281    0.3634         0        96      1024: 100% 380/380 [03:47<00:00,  1.67it/s]\n",
            "               Class     Images     Labels          P          R     mAP@.5 mAP@.5:.95: 100% 22/22 [00:09<00:00,  2.28it/s]\n",
            "                 all        338      15129       0.86      0.812      0.876      0.448\n",
            "\n",
            "     Epoch   gpu_mem       box       obj       cls    labels  img_size\n",
            "     18/19     5.75G   0.04262     0.359         0       212      1024: 100% 380/380 [03:44<00:00,  1.69it/s]\n",
            "               Class     Images     Labels          P          R     mAP@.5 mAP@.5:.95: 100% 22/22 [00:09<00:00,  2.33it/s]\n",
            "                 all        338      15129      0.835      0.785      0.864      0.442\n",
            "\n",
            "     Epoch   gpu_mem       box       obj       cls    labels  img_size\n",
            "     19/19     5.75G   0.04247    0.3633         0       233      1024: 100% 380/380 [03:46<00:00,  1.68it/s]\n",
            "               Class     Images     Labels          P          R     mAP@.5 mAP@.5:.95: 100% 22/22 [00:09<00:00,  2.30it/s]\n",
            "                 all        338      15129      0.834      0.801      0.867      0.448\n",
            "\n",
            "20 epochs completed in 1.333 hours.\n",
            "Optimizer stripped from yolo/yolov5-master/runs/train/wm_20e_pt/weights/last.pt, 14.8MB\n",
            "Optimizer stripped from yolo/yolov5-master/runs/train/wm_20e_pt/weights/best.pt, 14.8MB\n",
            "\n",
            "Validating yolo/yolov5-master/runs/train/wm_20e_pt/weights/best.pt...\n",
            "Fusing layers... \n",
            "YOLOv5s summary: 213 layers, 7012822 parameters, 0 gradients, 15.8 GFLOPs\n",
            "               Class     Images     Labels          P          R     mAP@.5 mAP@.5:.95: 100% 22/22 [00:21<00:00,  1.03it/s]\n",
            "                 all        338      15129       0.86      0.812      0.877      0.447\n",
            "Results saved to \u001b[1myolo/yolov5-master/runs/train/wm_20e_pt\u001b[0m\n"
          ]
        }
      ]
    },
    {
      "cell_type": "code",
      "source": [
        "! python /content/yolo/yolov5-master/detect.py --source /content/wheat_data/input/test --weights /content/yolo/yolov5-master/runs/train/wm_20e2/weights/best.pt"
      ],
      "metadata": {
        "colab": {
          "base_uri": "https://localhost:8080/"
        },
        "id": "bM9t5SHn-x6e",
        "outputId": "cb9180b0-bf9b-4144-f642-0ec929cc41ea"
      },
      "execution_count": 19,
      "outputs": [
        {
          "output_type": "stream",
          "name": "stdout",
          "text": [
            "\u001b[34m\u001b[1mdetect: \u001b[0mweights=['/content/yolo/yolov5-master/runs/train/wm_20e2/weights/best.pt'], source=/content/wheat_data/input/test, data=yolo/yolov5-master/data/coco128.yaml, imgsz=[640, 640], conf_thres=0.25, iou_thres=0.45, max_det=1000, device=, view_img=False, save_txt=False, save_conf=False, save_crop=False, nosave=False, classes=None, agnostic_nms=False, augment=False, visualize=False, update=False, project=yolo/yolov5-master/runs/detect, name=exp, exist_ok=False, line_thickness=3, hide_labels=False, hide_conf=False, half=False, dnn=False\n",
            "YOLOv5 🚀 2022-7-4 Python-3.7.13 torch-1.11.0+cu113 CUDA:0 (Tesla T4, 15110MiB)\n",
            "\n",
            "Fusing layers... \n",
            "YOLOv5s summary: 213 layers, 7012822 parameters, 0 gradients, 15.8 GFLOPs\n",
            "image 1/10 /content/wheat_data/input/test/2fd875eaa.jpg: 640x640 35 wheats, Done. (0.013s)\n",
            "image 2/10 /content/wheat_data/input/test/348a992bb.jpg: 640x640 35 wheats, Done. (0.014s)\n",
            "image 3/10 /content/wheat_data/input/test/51b3e36ab.jpg: 640x640 26 wheats, Done. (0.013s)\n",
            "image 4/10 /content/wheat_data/input/test/51f1be19e.jpg: 640x640 18 wheats, Done. (0.013s)\n",
            "image 5/10 /content/wheat_data/input/test/53f253011.jpg: 640x640 38 wheats, Done. (0.013s)\n",
            "image 6/10 /content/wheat_data/input/test/796707dd7.jpg: 640x640 18 wheats, Done. (0.013s)\n",
            "image 7/10 /content/wheat_data/input/test/aac893a91.jpg: 640x640 19 wheats, Done. (0.013s)\n",
            "image 8/10 /content/wheat_data/input/test/cb8d261a3.jpg: 640x640 22 wheats, Done. (0.014s)\n",
            "image 9/10 /content/wheat_data/input/test/cc3532ff6.jpg: 640x640 27 wheats, Done. (0.013s)\n",
            "image 10/10 /content/wheat_data/input/test/f5a1f0358.jpg: 640x640 29 wheats, Done. (0.013s)\n",
            "Speed: 0.6ms pre-process, 13.2ms inference, 1.2ms NMS per image at shape (1, 3, 640, 640)\n",
            "Results saved to \u001b[1myolo/yolov5-master/runs/detect/exp2\u001b[0m\n"
          ]
        }
      ]
    },
    {
      "cell_type": "code",
      "source": [
        ""
      ],
      "metadata": {
        "id": "ILJowm37-yEW"
      },
      "execution_count": null,
      "outputs": []
    },
    {
      "cell_type": "code",
      "source": [
        ""
      ],
      "metadata": {
        "id": "JzmKnIX7-yHS"
      },
      "execution_count": null,
      "outputs": []
    },
    {
      "cell_type": "code",
      "source": [
        ""
      ],
      "metadata": {
        "id": "mPvXazCV-yJ_"
      },
      "execution_count": null,
      "outputs": []
    }
  ]
}