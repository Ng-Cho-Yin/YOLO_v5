{
  "nbformat": 4,
  "nbformat_minor": 0,
  "metadata": {
    "colab": {
      "name": "yolov5.ipynb",
      "provenance": [],
      "mount_file_id": "1QFKlLhi6VyE8QYCHZ3dISy8BTQxcc2cX",
      "authorship_tag": "ABX9TyM92xQg77Efg5laTmo+VGq2",
      "include_colab_link": true
    },
    "kernelspec": {
      "name": "python3",
      "display_name": "Python 3"
    },
    "language_info": {
      "name": "python"
    },
    "gpuClass": "standard"
  },
  "cells": [
    {
      "cell_type": "markdown",
      "metadata": {
        "id": "view-in-github",
        "colab_type": "text"
      },
      "source": [
        "<a href=\"https://colab.research.google.com/github/Ng-Cho-Yin/YOLO_v5/blob/main/yolov5.ipynb\" target=\"_parent\"><img src=\"https://colab.research.google.com/assets/colab-badge.svg\" alt=\"Open In Colab\"/></a>"
      ]
    },
    {
      "cell_type": "code",
      "execution_count": 1,
      "metadata": {
        "id": "UOzVqPFAIByN"
      },
      "outputs": [],
      "source": [
        "from zipfile import ZipFile"
      ]
    },
    {
      "cell_type": "code",
      "source": [
        "!nvidia-smi"
      ],
      "metadata": {
        "colab": {
          "base_uri": "https://localhost:8080/"
        },
        "id": "s8iGsSt65nxu",
        "outputId": "6565f0de-f79d-4a21-84fc-cda15c4fc3b7"
      },
      "execution_count": 2,
      "outputs": [
        {
          "output_type": "stream",
          "name": "stdout",
          "text": [
            "NVIDIA-SMI has failed because it couldn't communicate with the NVIDIA driver. Make sure that the latest NVIDIA driver is installed and running.\n",
            "\n"
          ]
        }
      ]
    },
    {
      "cell_type": "code",
      "source": [
        "with ZipFile('/content/drive/MyDrive/global-wheat-detection.zip','r') as zipObj:\n",
        "  zipObj.extractall('wheat_data/input')"
      ],
      "metadata": {
        "id": "Vvu0aLzrJzJk"
      },
      "execution_count": 3,
      "outputs": []
    },
    {
      "cell_type": "code",
      "source": [
        "with ZipFile('/content/drive/MyDrive/yolov5-master.zip','r') as zipObj:\n",
        "  zipObj.extractall('yolo')"
      ],
      "metadata": {
        "id": "OgIi_yNlclqV"
      },
      "execution_count": 4,
      "outputs": []
    },
    {
      "cell_type": "code",
      "source": [
        "import ast\n",
        "import numpy as np\n",
        "import os\n",
        "import pandas as pd\n",
        "from PIL import Image\n",
        "from sklearn import model_selection\n",
        "import shutil\n",
        "from tqdm import tqdm\n",
        "\n",
        "\n"
      ],
      "metadata": {
        "id": "3t0FdvMuKhjt"
      },
      "execution_count": 5,
      "outputs": []
    },
    {
      "cell_type": "code",
      "source": [
        "#shutil.rmtree('/content/wheat_data/input', ignore_errors=True)"
      ],
      "metadata": {
        "id": "hDQMF48IV4EO"
      },
      "execution_count": null,
      "outputs": []
    },
    {
      "cell_type": "code",
      "source": [
        "DATA_PATH='/content/wheat_data/input'\n",
        "OUTPUT_PATH='/content/yolo/yolov5-master/wheat_data'"
      ],
      "metadata": {
        "id": "Enq3zdCmODWF"
      },
      "execution_count": 6,
      "outputs": []
    },
    {
      "cell_type": "code",
      "source": [
        "df = pd.read_csv(os.path.join(DATA_PATH,'train.csv'))\n",
        "df.bbox = df.bbox.apply(ast.literal_eval)\n",
        "df = df.groupby(\"image_id\")['bbox'].apply(list).reset_index(name='bboxes')"
      ],
      "metadata": {
        "id": "Df0fPFBdKhxA"
      },
      "execution_count": null,
      "outputs": []
    },
    {
      "cell_type": "code",
      "source": [
        "df"
      ],
      "metadata": {
        "colab": {
          "base_uri": "https://localhost:8080/",
          "height": 424
        },
        "id": "aej_QddBKh6b",
        "outputId": "04a2962a-6fe4-4704-e3e1-8ade864de783"
      },
      "execution_count": null,
      "outputs": [
        {
          "output_type": "execute_result",
          "data": {
            "text/plain": [
              "       image_id                                             bboxes\n",
              "0     00333207f  [[0, 654, 37, 111], [0, 817, 135, 98], [0, 192...\n",
              "1     005b0d8bb  [[765.0, 879.0, 116.0, 79.0], [84.0, 539.0, 15...\n",
              "2     006a994f7  [[437.0, 988.0, 98.0, 36.0], [309.0, 527.0, 11...\n",
              "3     00764ad5d  [[89.0, 256.0, 113.0, 107.0], [216.0, 282.0, 1...\n",
              "4     00b5fefed  [[709.0, 97.0, 204.0, 105.0], [775.0, 250.0, 1...\n",
              "...         ...                                                ...\n",
              "3368  ffb445410  [[0.0, 534.0, 54.0, 118.0], [0.0, 480.0, 38.0,...\n",
              "3369  ffbf75e5b  [[0, 697, 21, 58], [104, 750, 77, 75], [65, 84...\n",
              "3370  ffbfe7cc0  [[256.0, 0.0, 64.0, 99.0], [390.0, 0.0, 48.0, ...\n",
              "3371  ffc870198  [[447.0, 976.0, 78.0, 48.0], [18.0, 141.0, 218...\n",
              "3372  ffdf83e42  [[306.0, 178.0, 67.0, 88.0], [367.0, 167.0, 63...\n",
              "\n",
              "[3373 rows x 2 columns]"
            ],
            "text/html": [
              "\n",
              "  <div id=\"df-d5b1a6f8-1201-4e96-87a9-730e9eed6827\">\n",
              "    <div class=\"colab-df-container\">\n",
              "      <div>\n",
              "<style scoped>\n",
              "    .dataframe tbody tr th:only-of-type {\n",
              "        vertical-align: middle;\n",
              "    }\n",
              "\n",
              "    .dataframe tbody tr th {\n",
              "        vertical-align: top;\n",
              "    }\n",
              "\n",
              "    .dataframe thead th {\n",
              "        text-align: right;\n",
              "    }\n",
              "</style>\n",
              "<table border=\"1\" class=\"dataframe\">\n",
              "  <thead>\n",
              "    <tr style=\"text-align: right;\">\n",
              "      <th></th>\n",
              "      <th>image_id</th>\n",
              "      <th>bboxes</th>\n",
              "    </tr>\n",
              "  </thead>\n",
              "  <tbody>\n",
              "    <tr>\n",
              "      <th>0</th>\n",
              "      <td>00333207f</td>\n",
              "      <td>[[0, 654, 37, 111], [0, 817, 135, 98], [0, 192...</td>\n",
              "    </tr>\n",
              "    <tr>\n",
              "      <th>1</th>\n",
              "      <td>005b0d8bb</td>\n",
              "      <td>[[765.0, 879.0, 116.0, 79.0], [84.0, 539.0, 15...</td>\n",
              "    </tr>\n",
              "    <tr>\n",
              "      <th>2</th>\n",
              "      <td>006a994f7</td>\n",
              "      <td>[[437.0, 988.0, 98.0, 36.0], [309.0, 527.0, 11...</td>\n",
              "    </tr>\n",
              "    <tr>\n",
              "      <th>3</th>\n",
              "      <td>00764ad5d</td>\n",
              "      <td>[[89.0, 256.0, 113.0, 107.0], [216.0, 282.0, 1...</td>\n",
              "    </tr>\n",
              "    <tr>\n",
              "      <th>4</th>\n",
              "      <td>00b5fefed</td>\n",
              "      <td>[[709.0, 97.0, 204.0, 105.0], [775.0, 250.0, 1...</td>\n",
              "    </tr>\n",
              "    <tr>\n",
              "      <th>...</th>\n",
              "      <td>...</td>\n",
              "      <td>...</td>\n",
              "    </tr>\n",
              "    <tr>\n",
              "      <th>3368</th>\n",
              "      <td>ffb445410</td>\n",
              "      <td>[[0.0, 534.0, 54.0, 118.0], [0.0, 480.0, 38.0,...</td>\n",
              "    </tr>\n",
              "    <tr>\n",
              "      <th>3369</th>\n",
              "      <td>ffbf75e5b</td>\n",
              "      <td>[[0, 697, 21, 58], [104, 750, 77, 75], [65, 84...</td>\n",
              "    </tr>\n",
              "    <tr>\n",
              "      <th>3370</th>\n",
              "      <td>ffbfe7cc0</td>\n",
              "      <td>[[256.0, 0.0, 64.0, 99.0], [390.0, 0.0, 48.0, ...</td>\n",
              "    </tr>\n",
              "    <tr>\n",
              "      <th>3371</th>\n",
              "      <td>ffc870198</td>\n",
              "      <td>[[447.0, 976.0, 78.0, 48.0], [18.0, 141.0, 218...</td>\n",
              "    </tr>\n",
              "    <tr>\n",
              "      <th>3372</th>\n",
              "      <td>ffdf83e42</td>\n",
              "      <td>[[306.0, 178.0, 67.0, 88.0], [367.0, 167.0, 63...</td>\n",
              "    </tr>\n",
              "  </tbody>\n",
              "</table>\n",
              "<p>3373 rows × 2 columns</p>\n",
              "</div>\n",
              "      <button class=\"colab-df-convert\" onclick=\"convertToInteractive('df-d5b1a6f8-1201-4e96-87a9-730e9eed6827')\"\n",
              "              title=\"Convert this dataframe to an interactive table.\"\n",
              "              style=\"display:none;\">\n",
              "        \n",
              "  <svg xmlns=\"http://www.w3.org/2000/svg\" height=\"24px\"viewBox=\"0 0 24 24\"\n",
              "       width=\"24px\">\n",
              "    <path d=\"M0 0h24v24H0V0z\" fill=\"none\"/>\n",
              "    <path d=\"M18.56 5.44l.94 2.06.94-2.06 2.06-.94-2.06-.94-.94-2.06-.94 2.06-2.06.94zm-11 1L8.5 8.5l.94-2.06 2.06-.94-2.06-.94L8.5 2.5l-.94 2.06-2.06.94zm10 10l.94 2.06.94-2.06 2.06-.94-2.06-.94-.94-2.06-.94 2.06-2.06.94z\"/><path d=\"M17.41 7.96l-1.37-1.37c-.4-.4-.92-.59-1.43-.59-.52 0-1.04.2-1.43.59L10.3 9.45l-7.72 7.72c-.78.78-.78 2.05 0 2.83L4 21.41c.39.39.9.59 1.41.59.51 0 1.02-.2 1.41-.59l7.78-7.78 2.81-2.81c.8-.78.8-2.07 0-2.86zM5.41 20L4 18.59l7.72-7.72 1.47 1.35L5.41 20z\"/>\n",
              "  </svg>\n",
              "      </button>\n",
              "      \n",
              "  <style>\n",
              "    .colab-df-container {\n",
              "      display:flex;\n",
              "      flex-wrap:wrap;\n",
              "      gap: 12px;\n",
              "    }\n",
              "\n",
              "    .colab-df-convert {\n",
              "      background-color: #E8F0FE;\n",
              "      border: none;\n",
              "      border-radius: 50%;\n",
              "      cursor: pointer;\n",
              "      display: none;\n",
              "      fill: #1967D2;\n",
              "      height: 32px;\n",
              "      padding: 0 0 0 0;\n",
              "      width: 32px;\n",
              "    }\n",
              "\n",
              "    .colab-df-convert:hover {\n",
              "      background-color: #E2EBFA;\n",
              "      box-shadow: 0px 1px 2px rgba(60, 64, 67, 0.3), 0px 1px 3px 1px rgba(60, 64, 67, 0.15);\n",
              "      fill: #174EA6;\n",
              "    }\n",
              "\n",
              "    [theme=dark] .colab-df-convert {\n",
              "      background-color: #3B4455;\n",
              "      fill: #D2E3FC;\n",
              "    }\n",
              "\n",
              "    [theme=dark] .colab-df-convert:hover {\n",
              "      background-color: #434B5C;\n",
              "      box-shadow: 0px 1px 3px 1px rgba(0, 0, 0, 0.15);\n",
              "      filter: drop-shadow(0px 1px 2px rgba(0, 0, 0, 0.3));\n",
              "      fill: #FFFFFF;\n",
              "    }\n",
              "  </style>\n",
              "\n",
              "      <script>\n",
              "        const buttonEl =\n",
              "          document.querySelector('#df-d5b1a6f8-1201-4e96-87a9-730e9eed6827 button.colab-df-convert');\n",
              "        buttonEl.style.display =\n",
              "          google.colab.kernel.accessAllowed ? 'block' : 'none';\n",
              "\n",
              "        async function convertToInteractive(key) {\n",
              "          const element = document.querySelector('#df-d5b1a6f8-1201-4e96-87a9-730e9eed6827');\n",
              "          const dataTable =\n",
              "            await google.colab.kernel.invokeFunction('convertToInteractive',\n",
              "                                                     [key], {});\n",
              "          if (!dataTable) return;\n",
              "\n",
              "          const docLinkHtml = 'Like what you see? Visit the ' +\n",
              "            '<a target=\"_blank\" href=https://colab.research.google.com/notebooks/data_table.ipynb>data table notebook</a>'\n",
              "            + ' to learn more about interactive tables.';\n",
              "          element.innerHTML = '';\n",
              "          dataTable['output_type'] = 'display_data';\n",
              "          await google.colab.output.renderOutput(dataTable, element);\n",
              "          const docLink = document.createElement('div');\n",
              "          docLink.innerHTML = docLinkHtml;\n",
              "          element.appendChild(docLink);\n",
              "        }\n",
              "      </script>\n",
              "    </div>\n",
              "  </div>\n",
              "  "
            ]
          },
          "metadata": {},
          "execution_count": 8
        }
      ]
    },
    {
      "cell_type": "code",
      "source": [
        "df_train,df_valid = model_selection.train_test_split(\n",
        "                    df,\n",
        "                    test_size=0.1,\n",
        "                    random_state=42,\n",
        "                    shuffle=True)\n",
        "df_train = df_train.reset_index(drop=True)\n",
        "df_valid = df_valid.reset_index(drop=True)"
      ],
      "metadata": {
        "id": "ow5-5m8fKiCU"
      },
      "execution_count": null,
      "outputs": []
    },
    {
      "cell_type": "code",
      "source": [
        "df_train"
      ],
      "metadata": {
        "colab": {
          "base_uri": "https://localhost:8080/",
          "height": 424
        },
        "id": "otN8N6HjQcaN",
        "outputId": "54e53627-355f-40a3-af5c-d5cdf7c9dd8b"
      },
      "execution_count": null,
      "outputs": [
        {
          "output_type": "execute_result",
          "data": {
            "text/plain": [
              "       image_id                                             bboxes\n",
              "0     6d34eb3b2  [[391, 760, 87, 80], [208, 400, 149, 79], [215...\n",
              "1     c7c00c1a3  [[91, 10, 91, 66], [753, 0, 58, 38], [570, 0, ...\n",
              "2     09b4141a6  [[245.0, 240.0, 113.0, 110.0], [296.0, 709.0, ...\n",
              "3     e837f4e67  [[491.0, 473.0, 159.0, 87.0], [558.0, 225.0, 8...\n",
              "4     f1d20d58a  [[459.0, 917.0, 153.0, 103.0], [684.0, 5.0, 60...\n",
              "...         ...                                                ...\n",
              "3030  536ef8d03  [[483.0, 4.0, 144.0, 92.0], [50.0, 246.0, 150....\n",
              "3031  572a469e9  [[458.0, 619.0, 109.0, 90.0], [825.0, 604.0, 8...\n",
              "3032  63c4e8cda  [[84, 83, 190, 123], [260, 56, 181, 145], [7, ...\n",
              "3033  444977945  [[542.0, 0.0, 87.0, 46.0], [529.0, 175.0, 90.0...\n",
              "3034  f1144b38d  [[724.0, 17.0, 87.0, 67.0], [617.0, 812.0, 114...\n",
              "\n",
              "[3035 rows x 2 columns]"
            ],
            "text/html": [
              "\n",
              "  <div id=\"df-b621b483-3b2a-4e26-a90f-acffcc7fbcc8\">\n",
              "    <div class=\"colab-df-container\">\n",
              "      <div>\n",
              "<style scoped>\n",
              "    .dataframe tbody tr th:only-of-type {\n",
              "        vertical-align: middle;\n",
              "    }\n",
              "\n",
              "    .dataframe tbody tr th {\n",
              "        vertical-align: top;\n",
              "    }\n",
              "\n",
              "    .dataframe thead th {\n",
              "        text-align: right;\n",
              "    }\n",
              "</style>\n",
              "<table border=\"1\" class=\"dataframe\">\n",
              "  <thead>\n",
              "    <tr style=\"text-align: right;\">\n",
              "      <th></th>\n",
              "      <th>image_id</th>\n",
              "      <th>bboxes</th>\n",
              "    </tr>\n",
              "  </thead>\n",
              "  <tbody>\n",
              "    <tr>\n",
              "      <th>0</th>\n",
              "      <td>6d34eb3b2</td>\n",
              "      <td>[[391, 760, 87, 80], [208, 400, 149, 79], [215...</td>\n",
              "    </tr>\n",
              "    <tr>\n",
              "      <th>1</th>\n",
              "      <td>c7c00c1a3</td>\n",
              "      <td>[[91, 10, 91, 66], [753, 0, 58, 38], [570, 0, ...</td>\n",
              "    </tr>\n",
              "    <tr>\n",
              "      <th>2</th>\n",
              "      <td>09b4141a6</td>\n",
              "      <td>[[245.0, 240.0, 113.0, 110.0], [296.0, 709.0, ...</td>\n",
              "    </tr>\n",
              "    <tr>\n",
              "      <th>3</th>\n",
              "      <td>e837f4e67</td>\n",
              "      <td>[[491.0, 473.0, 159.0, 87.0], [558.0, 225.0, 8...</td>\n",
              "    </tr>\n",
              "    <tr>\n",
              "      <th>4</th>\n",
              "      <td>f1d20d58a</td>\n",
              "      <td>[[459.0, 917.0, 153.0, 103.0], [684.0, 5.0, 60...</td>\n",
              "    </tr>\n",
              "    <tr>\n",
              "      <th>...</th>\n",
              "      <td>...</td>\n",
              "      <td>...</td>\n",
              "    </tr>\n",
              "    <tr>\n",
              "      <th>3030</th>\n",
              "      <td>536ef8d03</td>\n",
              "      <td>[[483.0, 4.0, 144.0, 92.0], [50.0, 246.0, 150....</td>\n",
              "    </tr>\n",
              "    <tr>\n",
              "      <th>3031</th>\n",
              "      <td>572a469e9</td>\n",
              "      <td>[[458.0, 619.0, 109.0, 90.0], [825.0, 604.0, 8...</td>\n",
              "    </tr>\n",
              "    <tr>\n",
              "      <th>3032</th>\n",
              "      <td>63c4e8cda</td>\n",
              "      <td>[[84, 83, 190, 123], [260, 56, 181, 145], [7, ...</td>\n",
              "    </tr>\n",
              "    <tr>\n",
              "      <th>3033</th>\n",
              "      <td>444977945</td>\n",
              "      <td>[[542.0, 0.0, 87.0, 46.0], [529.0, 175.0, 90.0...</td>\n",
              "    </tr>\n",
              "    <tr>\n",
              "      <th>3034</th>\n",
              "      <td>f1144b38d</td>\n",
              "      <td>[[724.0, 17.0, 87.0, 67.0], [617.0, 812.0, 114...</td>\n",
              "    </tr>\n",
              "  </tbody>\n",
              "</table>\n",
              "<p>3035 rows × 2 columns</p>\n",
              "</div>\n",
              "      <button class=\"colab-df-convert\" onclick=\"convertToInteractive('df-b621b483-3b2a-4e26-a90f-acffcc7fbcc8')\"\n",
              "              title=\"Convert this dataframe to an interactive table.\"\n",
              "              style=\"display:none;\">\n",
              "        \n",
              "  <svg xmlns=\"http://www.w3.org/2000/svg\" height=\"24px\"viewBox=\"0 0 24 24\"\n",
              "       width=\"24px\">\n",
              "    <path d=\"M0 0h24v24H0V0z\" fill=\"none\"/>\n",
              "    <path d=\"M18.56 5.44l.94 2.06.94-2.06 2.06-.94-2.06-.94-.94-2.06-.94 2.06-2.06.94zm-11 1L8.5 8.5l.94-2.06 2.06-.94-2.06-.94L8.5 2.5l-.94 2.06-2.06.94zm10 10l.94 2.06.94-2.06 2.06-.94-2.06-.94-.94-2.06-.94 2.06-2.06.94z\"/><path d=\"M17.41 7.96l-1.37-1.37c-.4-.4-.92-.59-1.43-.59-.52 0-1.04.2-1.43.59L10.3 9.45l-7.72 7.72c-.78.78-.78 2.05 0 2.83L4 21.41c.39.39.9.59 1.41.59.51 0 1.02-.2 1.41-.59l7.78-7.78 2.81-2.81c.8-.78.8-2.07 0-2.86zM5.41 20L4 18.59l7.72-7.72 1.47 1.35L5.41 20z\"/>\n",
              "  </svg>\n",
              "      </button>\n",
              "      \n",
              "  <style>\n",
              "    .colab-df-container {\n",
              "      display:flex;\n",
              "      flex-wrap:wrap;\n",
              "      gap: 12px;\n",
              "    }\n",
              "\n",
              "    .colab-df-convert {\n",
              "      background-color: #E8F0FE;\n",
              "      border: none;\n",
              "      border-radius: 50%;\n",
              "      cursor: pointer;\n",
              "      display: none;\n",
              "      fill: #1967D2;\n",
              "      height: 32px;\n",
              "      padding: 0 0 0 0;\n",
              "      width: 32px;\n",
              "    }\n",
              "\n",
              "    .colab-df-convert:hover {\n",
              "      background-color: #E2EBFA;\n",
              "      box-shadow: 0px 1px 2px rgba(60, 64, 67, 0.3), 0px 1px 3px 1px rgba(60, 64, 67, 0.15);\n",
              "      fill: #174EA6;\n",
              "    }\n",
              "\n",
              "    [theme=dark] .colab-df-convert {\n",
              "      background-color: #3B4455;\n",
              "      fill: #D2E3FC;\n",
              "    }\n",
              "\n",
              "    [theme=dark] .colab-df-convert:hover {\n",
              "      background-color: #434B5C;\n",
              "      box-shadow: 0px 1px 3px 1px rgba(0, 0, 0, 0.15);\n",
              "      filter: drop-shadow(0px 1px 2px rgba(0, 0, 0, 0.3));\n",
              "      fill: #FFFFFF;\n",
              "    }\n",
              "  </style>\n",
              "\n",
              "      <script>\n",
              "        const buttonEl =\n",
              "          document.querySelector('#df-b621b483-3b2a-4e26-a90f-acffcc7fbcc8 button.colab-df-convert');\n",
              "        buttonEl.style.display =\n",
              "          google.colab.kernel.accessAllowed ? 'block' : 'none';\n",
              "\n",
              "        async function convertToInteractive(key) {\n",
              "          const element = document.querySelector('#df-b621b483-3b2a-4e26-a90f-acffcc7fbcc8');\n",
              "          const dataTable =\n",
              "            await google.colab.kernel.invokeFunction('convertToInteractive',\n",
              "                                                     [key], {});\n",
              "          if (!dataTable) return;\n",
              "\n",
              "          const docLinkHtml = 'Like what you see? Visit the ' +\n",
              "            '<a target=\"_blank\" href=https://colab.research.google.com/notebooks/data_table.ipynb>data table notebook</a>'\n",
              "            + ' to learn more about interactive tables.';\n",
              "          element.innerHTML = '';\n",
              "          dataTable['output_type'] = 'display_data';\n",
              "          await google.colab.output.renderOutput(dataTable, element);\n",
              "          const docLink = document.createElement('div');\n",
              "          docLink.innerHTML = docLinkHtml;\n",
              "          element.appendChild(docLink);\n",
              "        }\n",
              "      </script>\n",
              "    </div>\n",
              "  </div>\n",
              "  "
            ]
          },
          "metadata": {},
          "execution_count": 10
        }
      ]
    },
    {
      "cell_type": "code",
      "source": [
        "img = Image.open('/content/wheat_data/input/train/00333207f.jpg')"
      ],
      "metadata": {
        "id": "btCBOGIfKiI-"
      },
      "execution_count": null,
      "outputs": []
    },
    {
      "cell_type": "code",
      "source": [
        "img.size"
      ],
      "metadata": {
        "colab": {
          "base_uri": "https://localhost:8080/"
        },
        "id": "BWcEg3kKLX9y",
        "outputId": "68cfea23-12de-4b96-8d2b-6767d0c79c5b"
      },
      "execution_count": null,
      "outputs": [
        {
          "output_type": "execute_result",
          "data": {
            "text/plain": [
              "(1024, 1024)"
            ]
          },
          "metadata": {},
          "execution_count": 12
        }
      ]
    },
    {
      "cell_type": "code",
      "source": [
        "def process_data(data,data_type='train'):\n",
        "    for _,row in tqdm(data.iterrows(),total=len(data)):\n",
        "        image_name = row['image_id']\n",
        "        bounding_boxes = row['bboxes']\n",
        "        yolo_data = []\n",
        "        for bbox in bounding_boxes:\n",
        "            x = bbox[0]\n",
        "            y = bbox[1]\n",
        "            w = bbox[2]/1024\n",
        "            h = bbox[3]/1024\n",
        "            x_center = (x+w/2)/1024\n",
        "            y_center = (y+h/2)/1024\n",
        "            yolo_data.append([0,x_center,y_center,w,h])#['class',x_center,y_center,w,h]\n",
        "        yolo_data = np.array(yolo_data)\n",
        "        np.savetxt(\n",
        "            os.path.join(OUTPUT_PATH,f\"labels/{data_type}/{image_name}.txt\"),\n",
        "            yolo_data,\n",
        "            fmt=['%d','%f','%f','%f','%f']\n",
        "        )\n",
        "        shutil.copyfile(\n",
        "            os.path.join(DATA_PATH,f\"train/{image_name}.jpg\"),\n",
        "            os.path.join(OUTPUT_PATH,f\"images/{data_type}/{image_name}.jpg\"),\n",
        "        )"
      ],
      "metadata": {
        "id": "8t4I5eDELacb"
      },
      "execution_count": null,
      "outputs": []
    },
    {
      "cell_type": "code",
      "source": [
        "process_data(df_train,data_type='train')\n",
        "process_data(df_valid,data_type='validation')"
      ],
      "metadata": {
        "colab": {
          "base_uri": "https://localhost:8080/"
        },
        "id": "ISILLpnBPtI6",
        "outputId": "224ceaaa-2824-4089-9ace-68593ae2399e"
      },
      "execution_count": null,
      "outputs": [
        {
          "output_type": "stream",
          "name": "stderr",
          "text": [
            "100%|██████████| 3035/3035 [00:03<00:00, 855.34it/s]\n",
            "100%|██████████| 338/338 [00:00<00:00, 879.41it/s]\n"
          ]
        }
      ]
    },
    {
      "cell_type": "code",
      "source": [
        "!pip install -r /content/yolo/yolov5-master/requirements.txt"
      ],
      "metadata": {
        "colab": {
          "base_uri": "https://localhost:8080/"
        },
        "id": "kE3T3UPbloIN",
        "outputId": "100e9b18-d2de-461c-afa1-5cce7fa9c486"
      },
      "execution_count": null,
      "outputs": [
        {
          "output_type": "stream",
          "name": "stdout",
          "text": [
            "Looking in indexes: https://pypi.org/simple, https://us-python.pkg.dev/colab-wheels/public/simple/\n",
            "Requirement already satisfied: matplotlib>=3.2.2 in /usr/local/lib/python3.7/dist-packages (from -r /content/yolo/yolov5-master/requirements.txt (line 5)) (3.2.2)\n",
            "Requirement already satisfied: numpy>=1.18.5 in /usr/local/lib/python3.7/dist-packages (from -r /content/yolo/yolov5-master/requirements.txt (line 6)) (1.21.6)\n",
            "Requirement already satisfied: opencv-python>=4.1.1 in /usr/local/lib/python3.7/dist-packages (from -r /content/yolo/yolov5-master/requirements.txt (line 7)) (4.1.2.30)\n",
            "Requirement already satisfied: Pillow>=7.1.2 in /usr/local/lib/python3.7/dist-packages (from -r /content/yolo/yolov5-master/requirements.txt (line 8)) (7.1.2)\n",
            "Collecting PyYAML>=5.3.1\n",
            "  Downloading PyYAML-6.0-cp37-cp37m-manylinux_2_5_x86_64.manylinux1_x86_64.manylinux_2_12_x86_64.manylinux2010_x86_64.whl (596 kB)\n",
            "\u001b[K     |████████████████████████████████| 596 kB 7.5 MB/s \n",
            "\u001b[?25hRequirement already satisfied: requests>=2.23.0 in /usr/local/lib/python3.7/dist-packages (from -r /content/yolo/yolov5-master/requirements.txt (line 10)) (2.23.0)\n",
            "Requirement already satisfied: scipy>=1.4.1 in /usr/local/lib/python3.7/dist-packages (from -r /content/yolo/yolov5-master/requirements.txt (line 11)) (1.4.1)\n",
            "Requirement already satisfied: torch>=1.7.0 in /usr/local/lib/python3.7/dist-packages (from -r /content/yolo/yolov5-master/requirements.txt (line 12)) (1.11.0+cu113)\n",
            "Requirement already satisfied: torchvision>=0.8.1 in /usr/local/lib/python3.7/dist-packages (from -r /content/yolo/yolov5-master/requirements.txt (line 13)) (0.12.0+cu113)\n",
            "Requirement already satisfied: tqdm>=4.41.0 in /usr/local/lib/python3.7/dist-packages (from -r /content/yolo/yolov5-master/requirements.txt (line 14)) (4.64.0)\n",
            "Requirement already satisfied: protobuf<4.21.3 in /usr/local/lib/python3.7/dist-packages (from -r /content/yolo/yolov5-master/requirements.txt (line 15)) (3.17.3)\n",
            "Requirement already satisfied: tensorboard>=2.4.1 in /usr/local/lib/python3.7/dist-packages (from -r /content/yolo/yolov5-master/requirements.txt (line 18)) (2.8.0)\n",
            "Requirement already satisfied: pandas>=1.1.4 in /usr/local/lib/python3.7/dist-packages (from -r /content/yolo/yolov5-master/requirements.txt (line 22)) (1.3.5)\n",
            "Requirement already satisfied: seaborn>=0.11.0 in /usr/local/lib/python3.7/dist-packages (from -r /content/yolo/yolov5-master/requirements.txt (line 23)) (0.11.2)\n",
            "Requirement already satisfied: ipython in /usr/local/lib/python3.7/dist-packages (from -r /content/yolo/yolov5-master/requirements.txt (line 35)) (5.5.0)\n",
            "Requirement already satisfied: psutil in /usr/local/lib/python3.7/dist-packages (from -r /content/yolo/yolov5-master/requirements.txt (line 36)) (5.4.8)\n",
            "Collecting thop\n",
            "  Downloading thop-0.1.0.post2207010342-py3-none-any.whl (15 kB)\n",
            "Requirement already satisfied: python-dateutil>=2.1 in /usr/local/lib/python3.7/dist-packages (from matplotlib>=3.2.2->-r /content/yolo/yolov5-master/requirements.txt (line 5)) (2.8.2)\n",
            "Requirement already satisfied: pyparsing!=2.0.4,!=2.1.2,!=2.1.6,>=2.0.1 in /usr/local/lib/python3.7/dist-packages (from matplotlib>=3.2.2->-r /content/yolo/yolov5-master/requirements.txt (line 5)) (3.0.9)\n",
            "Requirement already satisfied: cycler>=0.10 in /usr/local/lib/python3.7/dist-packages (from matplotlib>=3.2.2->-r /content/yolo/yolov5-master/requirements.txt (line 5)) (0.11.0)\n",
            "Requirement already satisfied: kiwisolver>=1.0.1 in /usr/local/lib/python3.7/dist-packages (from matplotlib>=3.2.2->-r /content/yolo/yolov5-master/requirements.txt (line 5)) (1.4.3)\n",
            "Requirement already satisfied: certifi>=2017.4.17 in /usr/local/lib/python3.7/dist-packages (from requests>=2.23.0->-r /content/yolo/yolov5-master/requirements.txt (line 10)) (2022.6.15)\n",
            "Requirement already satisfied: chardet<4,>=3.0.2 in /usr/local/lib/python3.7/dist-packages (from requests>=2.23.0->-r /content/yolo/yolov5-master/requirements.txt (line 10)) (3.0.4)\n",
            "Requirement already satisfied: urllib3!=1.25.0,!=1.25.1,<1.26,>=1.21.1 in /usr/local/lib/python3.7/dist-packages (from requests>=2.23.0->-r /content/yolo/yolov5-master/requirements.txt (line 10)) (1.24.3)\n",
            "Requirement already satisfied: idna<3,>=2.5 in /usr/local/lib/python3.7/dist-packages (from requests>=2.23.0->-r /content/yolo/yolov5-master/requirements.txt (line 10)) (2.10)\n",
            "Requirement already satisfied: typing-extensions in /usr/local/lib/python3.7/dist-packages (from torch>=1.7.0->-r /content/yolo/yolov5-master/requirements.txt (line 12)) (4.1.1)\n",
            "Requirement already satisfied: six>=1.9 in /usr/local/lib/python3.7/dist-packages (from protobuf<4.21.3->-r /content/yolo/yolov5-master/requirements.txt (line 15)) (1.15.0)\n",
            "Requirement already satisfied: google-auth<3,>=1.6.3 in /usr/local/lib/python3.7/dist-packages (from tensorboard>=2.4.1->-r /content/yolo/yolov5-master/requirements.txt (line 18)) (1.35.0)\n",
            "Requirement already satisfied: grpcio>=1.24.3 in /usr/local/lib/python3.7/dist-packages (from tensorboard>=2.4.1->-r /content/yolo/yolov5-master/requirements.txt (line 18)) (1.46.3)\n",
            "Requirement already satisfied: tensorboard-data-server<0.7.0,>=0.6.0 in /usr/local/lib/python3.7/dist-packages (from tensorboard>=2.4.1->-r /content/yolo/yolov5-master/requirements.txt (line 18)) (0.6.1)\n",
            "Requirement already satisfied: absl-py>=0.4 in /usr/local/lib/python3.7/dist-packages (from tensorboard>=2.4.1->-r /content/yolo/yolov5-master/requirements.txt (line 18)) (1.1.0)\n",
            "Requirement already satisfied: werkzeug>=0.11.15 in /usr/local/lib/python3.7/dist-packages (from tensorboard>=2.4.1->-r /content/yolo/yolov5-master/requirements.txt (line 18)) (1.0.1)\n",
            "Requirement already satisfied: tensorboard-plugin-wit>=1.6.0 in /usr/local/lib/python3.7/dist-packages (from tensorboard>=2.4.1->-r /content/yolo/yolov5-master/requirements.txt (line 18)) (1.8.1)\n",
            "Requirement already satisfied: wheel>=0.26 in /usr/local/lib/python3.7/dist-packages (from tensorboard>=2.4.1->-r /content/yolo/yolov5-master/requirements.txt (line 18)) (0.37.1)\n",
            "Requirement already satisfied: setuptools>=41.0.0 in /usr/local/lib/python3.7/dist-packages (from tensorboard>=2.4.1->-r /content/yolo/yolov5-master/requirements.txt (line 18)) (57.4.0)\n",
            "Requirement already satisfied: markdown>=2.6.8 in /usr/local/lib/python3.7/dist-packages (from tensorboard>=2.4.1->-r /content/yolo/yolov5-master/requirements.txt (line 18)) (3.3.7)\n",
            "Requirement already satisfied: google-auth-oauthlib<0.5,>=0.4.1 in /usr/local/lib/python3.7/dist-packages (from tensorboard>=2.4.1->-r /content/yolo/yolov5-master/requirements.txt (line 18)) (0.4.6)\n",
            "Requirement already satisfied: pytz>=2017.3 in /usr/local/lib/python3.7/dist-packages (from pandas>=1.1.4->-r /content/yolo/yolov5-master/requirements.txt (line 22)) (2022.1)\n",
            "Requirement already satisfied: cachetools<5.0,>=2.0.0 in /usr/local/lib/python3.7/dist-packages (from google-auth<3,>=1.6.3->tensorboard>=2.4.1->-r /content/yolo/yolov5-master/requirements.txt (line 18)) (4.2.4)\n",
            "Requirement already satisfied: rsa<5,>=3.1.4 in /usr/local/lib/python3.7/dist-packages (from google-auth<3,>=1.6.3->tensorboard>=2.4.1->-r /content/yolo/yolov5-master/requirements.txt (line 18)) (4.8)\n",
            "Requirement already satisfied: pyasn1-modules>=0.2.1 in /usr/local/lib/python3.7/dist-packages (from google-auth<3,>=1.6.3->tensorboard>=2.4.1->-r /content/yolo/yolov5-master/requirements.txt (line 18)) (0.2.8)\n",
            "Requirement already satisfied: requests-oauthlib>=0.7.0 in /usr/local/lib/python3.7/dist-packages (from google-auth-oauthlib<0.5,>=0.4.1->tensorboard>=2.4.1->-r /content/yolo/yolov5-master/requirements.txt (line 18)) (1.3.1)\n",
            "Requirement already satisfied: importlib-metadata>=4.4 in /usr/local/lib/python3.7/dist-packages (from markdown>=2.6.8->tensorboard>=2.4.1->-r /content/yolo/yolov5-master/requirements.txt (line 18)) (4.11.4)\n",
            "Requirement already satisfied: zipp>=0.5 in /usr/local/lib/python3.7/dist-packages (from importlib-metadata>=4.4->markdown>=2.6.8->tensorboard>=2.4.1->-r /content/yolo/yolov5-master/requirements.txt (line 18)) (3.8.0)\n",
            "Requirement already satisfied: pyasn1<0.5.0,>=0.4.6 in /usr/local/lib/python3.7/dist-packages (from pyasn1-modules>=0.2.1->google-auth<3,>=1.6.3->tensorboard>=2.4.1->-r /content/yolo/yolov5-master/requirements.txt (line 18)) (0.4.8)\n",
            "Requirement already satisfied: oauthlib>=3.0.0 in /usr/local/lib/python3.7/dist-packages (from requests-oauthlib>=0.7.0->google-auth-oauthlib<0.5,>=0.4.1->tensorboard>=2.4.1->-r /content/yolo/yolov5-master/requirements.txt (line 18)) (3.2.0)\n",
            "Requirement already satisfied: pygments in /usr/local/lib/python3.7/dist-packages (from ipython->-r /content/yolo/yolov5-master/requirements.txt (line 35)) (2.6.1)\n",
            "Requirement already satisfied: simplegeneric>0.8 in /usr/local/lib/python3.7/dist-packages (from ipython->-r /content/yolo/yolov5-master/requirements.txt (line 35)) (0.8.1)\n",
            "Requirement already satisfied: traitlets>=4.2 in /usr/local/lib/python3.7/dist-packages (from ipython->-r /content/yolo/yolov5-master/requirements.txt (line 35)) (5.1.1)\n",
            "Requirement already satisfied: prompt-toolkit<2.0.0,>=1.0.4 in /usr/local/lib/python3.7/dist-packages (from ipython->-r /content/yolo/yolov5-master/requirements.txt (line 35)) (1.0.18)\n",
            "Requirement already satisfied: decorator in /usr/local/lib/python3.7/dist-packages (from ipython->-r /content/yolo/yolov5-master/requirements.txt (line 35)) (4.4.2)\n",
            "Requirement already satisfied: pickleshare in /usr/local/lib/python3.7/dist-packages (from ipython->-r /content/yolo/yolov5-master/requirements.txt (line 35)) (0.7.5)\n",
            "Requirement already satisfied: pexpect in /usr/local/lib/python3.7/dist-packages (from ipython->-r /content/yolo/yolov5-master/requirements.txt (line 35)) (4.8.0)\n",
            "Requirement already satisfied: wcwidth in /usr/local/lib/python3.7/dist-packages (from prompt-toolkit<2.0.0,>=1.0.4->ipython->-r /content/yolo/yolov5-master/requirements.txt (line 35)) (0.2.5)\n",
            "Requirement already satisfied: ptyprocess>=0.5 in /usr/local/lib/python3.7/dist-packages (from pexpect->ipython->-r /content/yolo/yolov5-master/requirements.txt (line 35)) (0.7.0)\n",
            "Installing collected packages: thop, PyYAML\n",
            "  Attempting uninstall: PyYAML\n",
            "    Found existing installation: PyYAML 3.13\n",
            "    Uninstalling PyYAML-3.13:\n",
            "      Successfully uninstalled PyYAML-3.13\n",
            "Successfully installed PyYAML-6.0 thop-0.1.0.post2207010342\n"
          ]
        }
      ]
    },
    {
      "cell_type": "code",
      "source": [
        "! python /content/yolo/yolov5-master/train.py --img 1024 --batch 8 --epochs 20 --data /content/yolo/yolov5-master/wheat.yaml --cfg /content/yolo/yolov5-master/models/yolov5s.yaml --name wm_20e"
      ],
      "metadata": {
        "colab": {
          "base_uri": "https://localhost:8080/"
        },
        "id": "IUgeaLEDbB9h",
        "outputId": "12ff789b-5e89-447b-e820-df40f23061d9"
      },
      "execution_count": null,
      "outputs": [
        {
          "output_type": "stream",
          "name": "stdout",
          "text": [
            "python3: can't open file '/content/yolo/yolov5-master/train.py': [Errno 2] No such file or directory\n"
          ]
        }
      ]
    },
    {
      "cell_type": "code",
      "source": [
        "! python /content/yolo/yolov5-master/detect.py --source /content/wheat_data/input/test --weights /content/yolo/yolov5-master/runs/train/wm2/weights/best.pt"
      ],
      "metadata": {
        "colab": {
          "base_uri": "https://localhost:8080/"
        },
        "id": "bM9t5SHn-x6e",
        "outputId": "8e9f9832-5aff-47a0-9ea6-520531c0e17b"
      },
      "execution_count": null,
      "outputs": [
        {
          "output_type": "stream",
          "name": "stdout",
          "text": [
            "\u001b[34m\u001b[1mdetect: \u001b[0mweights=['/content/yolo/yolov5-master/runs/train/wm2/weights/best.pt'], source=/content/wheat_data/input/test, data=yolo/yolov5-master/data/coco128.yaml, imgsz=[640, 640], conf_thres=0.25, iou_thres=0.45, max_det=1000, device=, view_img=False, save_txt=False, save_conf=False, save_crop=False, nosave=False, classes=None, agnostic_nms=False, augment=False, visualize=False, update=False, project=yolo/yolov5-master/runs/detect, name=exp, exist_ok=False, line_thickness=3, hide_labels=False, hide_conf=False, half=False, dnn=False\n",
            "YOLOv5 🚀 2022-7-3 Python-3.7.13 torch-1.11.0+cu113 CUDA:0 (Tesla T4, 15110MiB)\n",
            "\n",
            "Fusing layers... \n",
            "YOLOv5s summary: 213 layers, 7012822 parameters, 0 gradients, 15.8 GFLOPs\n",
            "image 1/10 /content/wheat_data/input/test/2fd875eaa.jpg: 640x640 41 wheats, Done. (0.014s)\n",
            "image 2/10 /content/wheat_data/input/test/348a992bb.jpg: 640x640 55 wheats, Done. (0.013s)\n",
            "image 3/10 /content/wheat_data/input/test/51b3e36ab.jpg: 640x640 28 wheats, Done. (0.013s)\n",
            "image 4/10 /content/wheat_data/input/test/51f1be19e.jpg: 640x640 18 wheats, Done. (0.015s)\n",
            "image 5/10 /content/wheat_data/input/test/53f253011.jpg: 640x640 31 wheats, Done. (0.013s)\n",
            "image 6/10 /content/wheat_data/input/test/796707dd7.jpg: 640x640 20 wheats, Done. (0.013s)\n",
            "image 7/10 /content/wheat_data/input/test/aac893a91.jpg: 640x640 19 wheats, Done. (0.013s)\n",
            "image 8/10 /content/wheat_data/input/test/cb8d261a3.jpg: 640x640 29 wheats, Done. (0.013s)\n",
            "image 9/10 /content/wheat_data/input/test/cc3532ff6.jpg: 640x640 29 wheats, Done. (0.013s)\n",
            "image 10/10 /content/wheat_data/input/test/f5a1f0358.jpg: 640x640 30 wheats, Done. (0.013s)\n",
            "Speed: 0.6ms pre-process, 13.3ms inference, 1.2ms NMS per image at shape (1, 3, 640, 640)\n",
            "Results saved to \u001b[1myolo/yolov5-master/runs/detect/exp3\u001b[0m\n"
          ]
        }
      ]
    },
    {
      "cell_type": "code",
      "source": [
        ""
      ],
      "metadata": {
        "id": "ILJowm37-yEW"
      },
      "execution_count": null,
      "outputs": []
    },
    {
      "cell_type": "code",
      "source": [
        ""
      ],
      "metadata": {
        "id": "JzmKnIX7-yHS"
      },
      "execution_count": null,
      "outputs": []
    },
    {
      "cell_type": "code",
      "source": [
        ""
      ],
      "metadata": {
        "id": "mPvXazCV-yJ_"
      },
      "execution_count": null,
      "outputs": []
    }
  ]
}